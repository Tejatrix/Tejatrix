{
  "nbformat": 4,
  "nbformat_minor": 0,
  "metadata": {
    "colab": {
      "name": "BinaryClassification_Deeplearning.ipynb",
      "provenance": [],
      "collapsed_sections": [],
      "authorship_tag": "ABX9TyN1voMqPNKQtB9SE4TrFu+T",
      "include_colab_link": true
    },
    "kernelspec": {
      "name": "python3",
      "display_name": "Python 3"
    },
    "language_info": {
      "name": "python"
    },
    "accelerator": "GPU"
  },
  "cells": [
    {
      "cell_type": "markdown",
      "metadata": {
        "id": "view-in-github",
        "colab_type": "text"
      },
      "source": [
        "<a href=\"https://colab.research.google.com/github/Tejatrix/Tejatrix/blob/main/BinaryClassification_Deeplearning.ipynb\" target=\"_parent\"><img src=\"https://colab.research.google.com/assets/colab-badge.svg\" alt=\"Open In Colab\"/></a>"
      ]
    },
    {
      "cell_type": "code",
      "metadata": {
        "id": "B3QXzdk-OP9I"
      },
      "source": [
        "import tensorflow as tf\n",
        "from tensorflow import keras\n",
        "\n",
        "import sklearn\n",
        "from sklearn.model_selection import train_test_split"
      ],
      "execution_count": 2,
      "outputs": []
    },
    {
      "cell_type": "code",
      "metadata": {
        "id": "-q-sYXDKO2Na"
      },
      "source": [
        "from tensorflow.keras.models import Sequential\n",
        "from tensorflow.keras.layers import Activation, Dense, BatchNormalization, Dropout\n",
        "from tensorflow.keras import optimizers"
      ],
      "execution_count": 4,
      "outputs": []
    },
    {
      "cell_type": "code",
      "metadata": {
        "id": "vBmNuyZRPZmU"
      },
      "source": [
        "import matplotlib.pyplot as plt\n",
        "import numpy as np\n",
        "import pandas as pd\n",
        "import seaborn as sns"
      ],
      "execution_count": 6,
      "outputs": []
    },
    {
      "cell_type": "code",
      "metadata": {
        "id": "K-ROEqdhPn3Y"
      },
      "source": [
        "tf.random.set_seed(32)\n"
      ],
      "execution_count": 7,
      "outputs": []
    },
    {
      "cell_type": "code",
      "metadata": {
        "colab": {
          "base_uri": "https://localhost:8080/"
        },
        "id": "jJpIH2jqQJC4",
        "outputId": "b447a493-0f83-4449-bcc1-ff26c16706f7"
      },
      "source": [
        "from google.colab import drive\n",
        "drive.mount('/content/drive')\n"
      ],
      "execution_count": 8,
      "outputs": [
        {
          "output_type": "stream",
          "text": [
            "Mounted at /content/drive\n"
          ],
          "name": "stdout"
        }
      ]
    },
    {
      "cell_type": "code",
      "metadata": {
        "id": "aIkJTmdURH4M"
      },
      "source": [
        "all_ds = pd.read_excel('/content/drive/MyDrive/heart_failure_clinical_records_dataset.xlsx')"
      ],
      "execution_count": 9,
      "outputs": []
    },
    {
      "cell_type": "code",
      "metadata": {
        "colab": {
          "base_uri": "https://localhost:8080/",
          "height": 417
        },
        "id": "X4tx3bZWSBWz",
        "outputId": "cf7bed4d-46b8-4667-a11d-276bd38eb872"
      },
      "source": [
        " all_ds"
      ],
      "execution_count": 7,
      "outputs": [
        {
          "output_type": "execute_result",
          "data": {
            "text/html": [
              "<div>\n",
              "<style scoped>\n",
              "    .dataframe tbody tr th:only-of-type {\n",
              "        vertical-align: middle;\n",
              "    }\n",
              "\n",
              "    .dataframe tbody tr th {\n",
              "        vertical-align: top;\n",
              "    }\n",
              "\n",
              "    .dataframe thead th {\n",
              "        text-align: right;\n",
              "    }\n",
              "</style>\n",
              "<table border=\"1\" class=\"dataframe\">\n",
              "  <thead>\n",
              "    <tr style=\"text-align: right;\">\n",
              "      <th></th>\n",
              "      <th>age</th>\n",
              "      <th>anaemia</th>\n",
              "      <th>creatinine_phosphokinase</th>\n",
              "      <th>diabetes</th>\n",
              "      <th>ejection_fraction</th>\n",
              "      <th>high_blood_pressure</th>\n",
              "      <th>platelets</th>\n",
              "      <th>serum_creatinine</th>\n",
              "      <th>serum_sodium</th>\n",
              "      <th>sex</th>\n",
              "      <th>smoking</th>\n",
              "      <th>time</th>\n",
              "      <th>DEATH_EVENT</th>\n",
              "    </tr>\n",
              "  </thead>\n",
              "  <tbody>\n",
              "    <tr>\n",
              "      <th>0</th>\n",
              "      <td>75.0</td>\n",
              "      <td>0</td>\n",
              "      <td>582</td>\n",
              "      <td>0</td>\n",
              "      <td>20</td>\n",
              "      <td>1</td>\n",
              "      <td>265000.00</td>\n",
              "      <td>1.9</td>\n",
              "      <td>130</td>\n",
              "      <td>1</td>\n",
              "      <td>0</td>\n",
              "      <td>4</td>\n",
              "      <td>1</td>\n",
              "    </tr>\n",
              "    <tr>\n",
              "      <th>1</th>\n",
              "      <td>55.0</td>\n",
              "      <td>0</td>\n",
              "      <td>7861</td>\n",
              "      <td>0</td>\n",
              "      <td>38</td>\n",
              "      <td>0</td>\n",
              "      <td>263358.03</td>\n",
              "      <td>1.1</td>\n",
              "      <td>136</td>\n",
              "      <td>1</td>\n",
              "      <td>0</td>\n",
              "      <td>6</td>\n",
              "      <td>1</td>\n",
              "    </tr>\n",
              "    <tr>\n",
              "      <th>2</th>\n",
              "      <td>65.0</td>\n",
              "      <td>0</td>\n",
              "      <td>146</td>\n",
              "      <td>0</td>\n",
              "      <td>20</td>\n",
              "      <td>0</td>\n",
              "      <td>162000.00</td>\n",
              "      <td>1.3</td>\n",
              "      <td>129</td>\n",
              "      <td>1</td>\n",
              "      <td>1</td>\n",
              "      <td>7</td>\n",
              "      <td>1</td>\n",
              "    </tr>\n",
              "    <tr>\n",
              "      <th>3</th>\n",
              "      <td>50.0</td>\n",
              "      <td>1</td>\n",
              "      <td>111</td>\n",
              "      <td>0</td>\n",
              "      <td>20</td>\n",
              "      <td>0</td>\n",
              "      <td>210000.00</td>\n",
              "      <td>1.9</td>\n",
              "      <td>137</td>\n",
              "      <td>1</td>\n",
              "      <td>0</td>\n",
              "      <td>7</td>\n",
              "      <td>1</td>\n",
              "    </tr>\n",
              "    <tr>\n",
              "      <th>4</th>\n",
              "      <td>65.0</td>\n",
              "      <td>1</td>\n",
              "      <td>160</td>\n",
              "      <td>1</td>\n",
              "      <td>20</td>\n",
              "      <td>0</td>\n",
              "      <td>327000.00</td>\n",
              "      <td>2.7</td>\n",
              "      <td>116</td>\n",
              "      <td>0</td>\n",
              "      <td>0</td>\n",
              "      <td>8</td>\n",
              "      <td>1</td>\n",
              "    </tr>\n",
              "    <tr>\n",
              "      <th>...</th>\n",
              "      <td>...</td>\n",
              "      <td>...</td>\n",
              "      <td>...</td>\n",
              "      <td>...</td>\n",
              "      <td>...</td>\n",
              "      <td>...</td>\n",
              "      <td>...</td>\n",
              "      <td>...</td>\n",
              "      <td>...</td>\n",
              "      <td>...</td>\n",
              "      <td>...</td>\n",
              "      <td>...</td>\n",
              "      <td>...</td>\n",
              "    </tr>\n",
              "    <tr>\n",
              "      <th>294</th>\n",
              "      <td>62.0</td>\n",
              "      <td>0</td>\n",
              "      <td>61</td>\n",
              "      <td>1</td>\n",
              "      <td>38</td>\n",
              "      <td>1</td>\n",
              "      <td>155000.00</td>\n",
              "      <td>1.1</td>\n",
              "      <td>143</td>\n",
              "      <td>1</td>\n",
              "      <td>1</td>\n",
              "      <td>270</td>\n",
              "      <td>0</td>\n",
              "    </tr>\n",
              "    <tr>\n",
              "      <th>295</th>\n",
              "      <td>55.0</td>\n",
              "      <td>0</td>\n",
              "      <td>1820</td>\n",
              "      <td>0</td>\n",
              "      <td>38</td>\n",
              "      <td>0</td>\n",
              "      <td>270000.00</td>\n",
              "      <td>1.2</td>\n",
              "      <td>139</td>\n",
              "      <td>0</td>\n",
              "      <td>0</td>\n",
              "      <td>271</td>\n",
              "      <td>0</td>\n",
              "    </tr>\n",
              "    <tr>\n",
              "      <th>296</th>\n",
              "      <td>45.0</td>\n",
              "      <td>0</td>\n",
              "      <td>2060</td>\n",
              "      <td>1</td>\n",
              "      <td>60</td>\n",
              "      <td>0</td>\n",
              "      <td>742000.00</td>\n",
              "      <td>0.8</td>\n",
              "      <td>138</td>\n",
              "      <td>0</td>\n",
              "      <td>0</td>\n",
              "      <td>278</td>\n",
              "      <td>0</td>\n",
              "    </tr>\n",
              "    <tr>\n",
              "      <th>297</th>\n",
              "      <td>45.0</td>\n",
              "      <td>0</td>\n",
              "      <td>2413</td>\n",
              "      <td>0</td>\n",
              "      <td>38</td>\n",
              "      <td>0</td>\n",
              "      <td>140000.00</td>\n",
              "      <td>1.4</td>\n",
              "      <td>140</td>\n",
              "      <td>1</td>\n",
              "      <td>1</td>\n",
              "      <td>280</td>\n",
              "      <td>0</td>\n",
              "    </tr>\n",
              "    <tr>\n",
              "      <th>298</th>\n",
              "      <td>50.0</td>\n",
              "      <td>0</td>\n",
              "      <td>196</td>\n",
              "      <td>0</td>\n",
              "      <td>45</td>\n",
              "      <td>0</td>\n",
              "      <td>395000.00</td>\n",
              "      <td>1.6</td>\n",
              "      <td>136</td>\n",
              "      <td>1</td>\n",
              "      <td>1</td>\n",
              "      <td>285</td>\n",
              "      <td>0</td>\n",
              "    </tr>\n",
              "  </tbody>\n",
              "</table>\n",
              "<p>299 rows × 13 columns</p>\n",
              "</div>"
            ],
            "text/plain": [
              "      age  anaemia  creatinine_phosphokinase  ...  smoking  time  DEATH_EVENT\n",
              "0    75.0        0                       582  ...        0     4            1\n",
              "1    55.0        0                      7861  ...        0     6            1\n",
              "2    65.0        0                       146  ...        1     7            1\n",
              "3    50.0        1                       111  ...        0     7            1\n",
              "4    65.0        1                       160  ...        0     8            1\n",
              "..    ...      ...                       ...  ...      ...   ...          ...\n",
              "294  62.0        0                        61  ...        1   270            0\n",
              "295  55.0        0                      1820  ...        0   271            0\n",
              "296  45.0        0                      2060  ...        0   278            0\n",
              "297  45.0        0                      2413  ...        1   280            0\n",
              "298  50.0        0                       196  ...        1   285            0\n",
              "\n",
              "[299 rows x 13 columns]"
            ]
          },
          "metadata": {
            "tags": []
          },
          "execution_count": 7
        }
      ]
    },
    {
      "cell_type": "code",
      "metadata": {
        "colab": {
          "base_uri": "https://localhost:8080/"
        },
        "id": "nuZMDHlcSSRU",
        "outputId": "9c90ab2f-e872-4d0a-a58b-36c16d91607e"
      },
      "source": [
        "all_ds.info()"
      ],
      "execution_count": 10,
      "outputs": [
        {
          "output_type": "stream",
          "text": [
            "<class 'pandas.core.frame.DataFrame'>\n",
            "RangeIndex: 299 entries, 0 to 298\n",
            "Data columns (total 13 columns):\n",
            " #   Column                    Non-Null Count  Dtype  \n",
            "---  ------                    --------------  -----  \n",
            " 0   age                       299 non-null    float64\n",
            " 1   anaemia                   299 non-null    int64  \n",
            " 2   creatinine_phosphokinase  299 non-null    int64  \n",
            " 3   diabetes                  299 non-null    int64  \n",
            " 4   ejection_fraction         299 non-null    int64  \n",
            " 5   high_blood_pressure       299 non-null    int64  \n",
            " 6   platelets                 299 non-null    float64\n",
            " 7   serum_creatinine          299 non-null    float64\n",
            " 8   serum_sodium              299 non-null    int64  \n",
            " 9   sex                       299 non-null    int64  \n",
            " 10  smoking                   299 non-null    int64  \n",
            " 11  time                      299 non-null    int64  \n",
            " 12  DEATH_EVENT               299 non-null    int64  \n",
            "dtypes: float64(3), int64(10)\n",
            "memory usage: 30.5 KB\n"
          ],
          "name": "stdout"
        }
      ]
    },
    {
      "cell_type": "markdown",
      "metadata": {
        "id": "dvmo9nDoS8Yc"
      },
      "source": [
        "# **Cleaning Data**"
      ]
    },
    {
      "cell_type": "code",
      "metadata": {
        "colab": {
          "base_uri": "https://localhost:8080/"
        },
        "id": "y5jPJMtNSZ85",
        "outputId": "6b56c86b-f91e-4ba0-b18a-7d53c94b9f0f"
      },
      "source": [
        "# Checking for Null values \n",
        "all_ds.isnull().sum(1)"
      ],
      "execution_count": 11,
      "outputs": [
        {
          "output_type": "execute_result",
          "data": {
            "text/plain": [
              "0      0\n",
              "1      0\n",
              "2      0\n",
              "3      0\n",
              "4      0\n",
              "      ..\n",
              "294    0\n",
              "295    0\n",
              "296    0\n",
              "297    0\n",
              "298    0\n",
              "Length: 299, dtype: int64"
            ]
          },
          "metadata": {
            "tags": []
          },
          "execution_count": 11
        }
      ]
    },
    {
      "cell_type": "code",
      "metadata": {
        "id": "V-wMFkZaS0yn"
      },
      "source": [
        "# No null values. Hence we don't have to replace any rows."
      ],
      "execution_count": 12,
      "outputs": []
    },
    {
      "cell_type": "code",
      "metadata": {
        "id": "q1gitWLohNhE"
      },
      "source": [
        "# \"time\" signifies only the order in which entries are made. Hence we are dropping the column.\n",
        "all_ds = all_ds.drop('time', axis=1)"
      ],
      "execution_count": 13,
      "outputs": []
    },
    {
      "cell_type": "markdown",
      "metadata": {
        "id": "-vpUxqW-TnxS"
      },
      "source": [
        "# **Rearranging Data for better performence**"
      ]
    },
    {
      "cell_type": "code",
      "metadata": {
        "colab": {
          "base_uri": "https://localhost:8080/",
          "height": 417
        },
        "id": "3dNSCmSuclYW",
        "outputId": "9f6f5870-e12d-4cf5-eb70-3918c1ec84f7"
      },
      "source": [
        "data = all_ds.sample(frac=1)\n",
        "data"
      ],
      "execution_count": 14,
      "outputs": [
        {
          "output_type": "execute_result",
          "data": {
            "text/html": [
              "<div>\n",
              "<style scoped>\n",
              "    .dataframe tbody tr th:only-of-type {\n",
              "        vertical-align: middle;\n",
              "    }\n",
              "\n",
              "    .dataframe tbody tr th {\n",
              "        vertical-align: top;\n",
              "    }\n",
              "\n",
              "    .dataframe thead th {\n",
              "        text-align: right;\n",
              "    }\n",
              "</style>\n",
              "<table border=\"1\" class=\"dataframe\">\n",
              "  <thead>\n",
              "    <tr style=\"text-align: right;\">\n",
              "      <th></th>\n",
              "      <th>age</th>\n",
              "      <th>anaemia</th>\n",
              "      <th>creatinine_phosphokinase</th>\n",
              "      <th>diabetes</th>\n",
              "      <th>ejection_fraction</th>\n",
              "      <th>high_blood_pressure</th>\n",
              "      <th>platelets</th>\n",
              "      <th>serum_creatinine</th>\n",
              "      <th>serum_sodium</th>\n",
              "      <th>sex</th>\n",
              "      <th>smoking</th>\n",
              "      <th>DEATH_EVENT</th>\n",
              "    </tr>\n",
              "  </thead>\n",
              "  <tbody>\n",
              "    <tr>\n",
              "      <th>281</th>\n",
              "      <td>70.0</td>\n",
              "      <td>0</td>\n",
              "      <td>582</td>\n",
              "      <td>0</td>\n",
              "      <td>40</td>\n",
              "      <td>0</td>\n",
              "      <td>51000.00</td>\n",
              "      <td>2.7</td>\n",
              "      <td>136</td>\n",
              "      <td>1</td>\n",
              "      <td>1</td>\n",
              "      <td>0</td>\n",
              "    </tr>\n",
              "    <tr>\n",
              "      <th>167</th>\n",
              "      <td>59.0</td>\n",
              "      <td>0</td>\n",
              "      <td>66</td>\n",
              "      <td>1</td>\n",
              "      <td>20</td>\n",
              "      <td>0</td>\n",
              "      <td>70000.00</td>\n",
              "      <td>2.4</td>\n",
              "      <td>134</td>\n",
              "      <td>1</td>\n",
              "      <td>0</td>\n",
              "      <td>1</td>\n",
              "    </tr>\n",
              "    <tr>\n",
              "      <th>39</th>\n",
              "      <td>60.0</td>\n",
              "      <td>0</td>\n",
              "      <td>235</td>\n",
              "      <td>1</td>\n",
              "      <td>38</td>\n",
              "      <td>0</td>\n",
              "      <td>329000.00</td>\n",
              "      <td>3.0</td>\n",
              "      <td>142</td>\n",
              "      <td>0</td>\n",
              "      <td>0</td>\n",
              "      <td>1</td>\n",
              "    </tr>\n",
              "    <tr>\n",
              "      <th>47</th>\n",
              "      <td>60.0</td>\n",
              "      <td>0</td>\n",
              "      <td>582</td>\n",
              "      <td>1</td>\n",
              "      <td>38</td>\n",
              "      <td>1</td>\n",
              "      <td>451000.00</td>\n",
              "      <td>0.6</td>\n",
              "      <td>138</td>\n",
              "      <td>1</td>\n",
              "      <td>1</td>\n",
              "      <td>1</td>\n",
              "    </tr>\n",
              "    <tr>\n",
              "      <th>199</th>\n",
              "      <td>60.0</td>\n",
              "      <td>0</td>\n",
              "      <td>1211</td>\n",
              "      <td>1</td>\n",
              "      <td>35</td>\n",
              "      <td>0</td>\n",
              "      <td>263358.03</td>\n",
              "      <td>1.8</td>\n",
              "      <td>113</td>\n",
              "      <td>1</td>\n",
              "      <td>1</td>\n",
              "      <td>0</td>\n",
              "    </tr>\n",
              "    <tr>\n",
              "      <th>...</th>\n",
              "      <td>...</td>\n",
              "      <td>...</td>\n",
              "      <td>...</td>\n",
              "      <td>...</td>\n",
              "      <td>...</td>\n",
              "      <td>...</td>\n",
              "      <td>...</td>\n",
              "      <td>...</td>\n",
              "      <td>...</td>\n",
              "      <td>...</td>\n",
              "      <td>...</td>\n",
              "      <td>...</td>\n",
              "    </tr>\n",
              "    <tr>\n",
              "      <th>154</th>\n",
              "      <td>65.0</td>\n",
              "      <td>1</td>\n",
              "      <td>335</td>\n",
              "      <td>0</td>\n",
              "      <td>35</td>\n",
              "      <td>1</td>\n",
              "      <td>235000.00</td>\n",
              "      <td>0.8</td>\n",
              "      <td>136</td>\n",
              "      <td>0</td>\n",
              "      <td>0</td>\n",
              "      <td>0</td>\n",
              "    </tr>\n",
              "    <tr>\n",
              "      <th>137</th>\n",
              "      <td>68.0</td>\n",
              "      <td>1</td>\n",
              "      <td>646</td>\n",
              "      <td>0</td>\n",
              "      <td>25</td>\n",
              "      <td>0</td>\n",
              "      <td>305000.00</td>\n",
              "      <td>2.1</td>\n",
              "      <td>130</td>\n",
              "      <td>1</td>\n",
              "      <td>0</td>\n",
              "      <td>0</td>\n",
              "    </tr>\n",
              "    <tr>\n",
              "      <th>231</th>\n",
              "      <td>70.0</td>\n",
              "      <td>0</td>\n",
              "      <td>93</td>\n",
              "      <td>0</td>\n",
              "      <td>35</td>\n",
              "      <td>0</td>\n",
              "      <td>185000.00</td>\n",
              "      <td>1.1</td>\n",
              "      <td>134</td>\n",
              "      <td>1</td>\n",
              "      <td>1</td>\n",
              "      <td>0</td>\n",
              "    </tr>\n",
              "    <tr>\n",
              "      <th>25</th>\n",
              "      <td>80.0</td>\n",
              "      <td>0</td>\n",
              "      <td>148</td>\n",
              "      <td>1</td>\n",
              "      <td>38</td>\n",
              "      <td>0</td>\n",
              "      <td>149000.00</td>\n",
              "      <td>1.9</td>\n",
              "      <td>144</td>\n",
              "      <td>1</td>\n",
              "      <td>1</td>\n",
              "      <td>1</td>\n",
              "    </tr>\n",
              "    <tr>\n",
              "      <th>29</th>\n",
              "      <td>82.0</td>\n",
              "      <td>0</td>\n",
              "      <td>70</td>\n",
              "      <td>1</td>\n",
              "      <td>30</td>\n",
              "      <td>0</td>\n",
              "      <td>200000.00</td>\n",
              "      <td>1.2</td>\n",
              "      <td>132</td>\n",
              "      <td>1</td>\n",
              "      <td>1</td>\n",
              "      <td>1</td>\n",
              "    </tr>\n",
              "  </tbody>\n",
              "</table>\n",
              "<p>299 rows × 12 columns</p>\n",
              "</div>"
            ],
            "text/plain": [
              "      age  anaemia  creatinine_phosphokinase  ...  sex  smoking  DEATH_EVENT\n",
              "281  70.0        0                       582  ...    1        1            0\n",
              "167  59.0        0                        66  ...    1        0            1\n",
              "39   60.0        0                       235  ...    0        0            1\n",
              "47   60.0        0                       582  ...    1        1            1\n",
              "199  60.0        0                      1211  ...    1        1            0\n",
              "..    ...      ...                       ...  ...  ...      ...          ...\n",
              "154  65.0        1                       335  ...    0        0            0\n",
              "137  68.0        1                       646  ...    1        0            0\n",
              "231  70.0        0                        93  ...    1        1            0\n",
              "25   80.0        0                       148  ...    1        1            1\n",
              "29   82.0        0                        70  ...    1        1            1\n",
              "\n",
              "[299 rows x 12 columns]"
            ]
          },
          "metadata": {
            "tags": []
          },
          "execution_count": 14
        }
      ]
    },
    {
      "cell_type": "code",
      "metadata": {
        "id": "WGvhlz8Hc8aO"
      },
      "source": [
        "#Dividing data into training data and temperory test data.\n",
        "train_data,temp_test_data = train_test_split(data,test_size = 0.4)"
      ],
      "execution_count": 15,
      "outputs": []
    },
    {
      "cell_type": "code",
      "metadata": {
        "colab": {
          "base_uri": "https://localhost:8080/"
        },
        "id": "xSRZVKdSdLmS",
        "outputId": "ece191a1-b445-418e-eebb-dc8bea097e38"
      },
      "source": [
        "print( train_data.shape)\n",
        "print ( temp_test_data.shape)"
      ],
      "execution_count": 16,
      "outputs": [
        {
          "output_type": "stream",
          "text": [
            "(179, 12)\n",
            "(120, 12)\n"
          ],
          "name": "stdout"
        }
      ]
    },
    {
      "cell_type": "code",
      "metadata": {
        "id": "JjgP4IK6doWk"
      },
      "source": [
        "#Dividing the temperory test data to testing and validation data\n",
        "test_data,valid_data = train_test_split(temp_test_data,test_size = 0.5)"
      ],
      "execution_count": 17,
      "outputs": []
    },
    {
      "cell_type": "code",
      "metadata": {
        "colab": {
          "base_uri": "https://localhost:8080/"
        },
        "id": "aC_JK158eWb0",
        "outputId": "4064b97b-7689-4ef5-e17d-4155e890be43"
      },
      "source": [
        "print( train_data.shape)\n",
        "print ( test_data.shape)\n",
        "print( valid_data.shape)"
      ],
      "execution_count": 18,
      "outputs": [
        {
          "output_type": "stream",
          "text": [
            "(179, 12)\n",
            "(60, 12)\n",
            "(60, 12)\n"
          ],
          "name": "stdout"
        }
      ]
    },
    {
      "cell_type": "markdown",
      "metadata": {
        "id": "PlAfUV4RUcKU"
      },
      "source": [
        "# **EDA**"
      ]
    },
    {
      "cell_type": "code",
      "metadata": {
        "colab": {
          "base_uri": "https://localhost:8080/"
        },
        "id": "4tqwQ--YeZNG",
        "outputId": "f6251fae-51d2-4350-ed94-7e51e9832b13"
      },
      "source": [
        "# Pairwise plot to find any anomolies.\n",
        "train_stats = train_data.describe()\n",
        "train_stats.pop('DEATH_EVENT')"
      ],
      "execution_count": 19,
      "outputs": [
        {
          "output_type": "execute_result",
          "data": {
            "text/plain": [
              "count    179.000000\n",
              "mean       0.312849\n",
              "std        0.464954\n",
              "min        0.000000\n",
              "25%        0.000000\n",
              "50%        0.000000\n",
              "75%        1.000000\n",
              "max        1.000000\n",
              "Name: DEATH_EVENT, dtype: float64"
            ]
          },
          "metadata": {
            "tags": []
          },
          "execution_count": 19
        }
      ]
    },
    {
      "cell_type": "code",
      "metadata": {
        "colab": {
          "base_uri": "https://localhost:8080/",
          "height": 1000
        },
        "id": "ObR4WJ5dfQAN",
        "outputId": "11e8befb-e7c3-4c24-88b3-ac57a236a60c"
      },
      "source": [
        "sns.pairplot(train_stats[train_stats.columns], diag_kind = \"kde\")"
      ],
      "execution_count": 20,
      "outputs": [
        {
          "output_type": "execute_result",
          "data": {
            "text/plain": [
              "<seaborn.axisgrid.PairGrid at 0x7f5f17b77310>"
            ]
          },
          "metadata": {
            "tags": []
          },
          "execution_count": 20
        },
        {
          "output_type": "display_data",
          "data": {
            "image/png": "[encoded data removed]",
            "text/plain": [
              "<Figure size 1980x1980 with 132 Axes>"
            ]
          },
          "metadata": {
            "tags": [],
            "needs_background": "light"
          }
        }
      ]
    },
    {
      "cell_type": "code",
      "metadata": {
        "colab": {
          "base_uri": "https://localhost:8080/",
          "height": 388
        },
        "id": "5MeYXqj-fewv",
        "outputId": "2e4ef923-db71-4ba9-a576-1215f12c5041"
      },
      "source": [
        "train_stats = train_stats.transpose()\n",
        "train_stats"
      ],
      "execution_count": 21,
      "outputs": [
        {
          "output_type": "execute_result",
          "data": {
            "text/html": [
              "<div>\n",
              "<style scoped>\n",
              "    .dataframe tbody tr th:only-of-type {\n",
              "        vertical-align: middle;\n",
              "    }\n",
              "\n",
              "    .dataframe tbody tr th {\n",
              "        vertical-align: top;\n",
              "    }\n",
              "\n",
              "    .dataframe thead th {\n",
              "        text-align: right;\n",
              "    }\n",
              "</style>\n",
              "<table border=\"1\" class=\"dataframe\">\n",
              "  <thead>\n",
              "    <tr style=\"text-align: right;\">\n",
              "      <th></th>\n",
              "      <th>count</th>\n",
              "      <th>mean</th>\n",
              "      <th>std</th>\n",
              "      <th>min</th>\n",
              "      <th>25%</th>\n",
              "      <th>50%</th>\n",
              "      <th>75%</th>\n",
              "      <th>max</th>\n",
              "    </tr>\n",
              "  </thead>\n",
              "  <tbody>\n",
              "    <tr>\n",
              "      <th>age</th>\n",
              "      <td>179.0</td>\n",
              "      <td>60.668531</td>\n",
              "      <td>11.829653</td>\n",
              "      <td>40.0</td>\n",
              "      <td>51.0</td>\n",
              "      <td>60.0</td>\n",
              "      <td>67.5</td>\n",
              "      <td>95.0</td>\n",
              "    </tr>\n",
              "    <tr>\n",
              "      <th>anaemia</th>\n",
              "      <td>179.0</td>\n",
              "      <td>0.418994</td>\n",
              "      <td>0.494778</td>\n",
              "      <td>0.0</td>\n",
              "      <td>0.0</td>\n",
              "      <td>0.0</td>\n",
              "      <td>1.0</td>\n",
              "      <td>1.0</td>\n",
              "    </tr>\n",
              "    <tr>\n",
              "      <th>creatinine_phosphokinase</th>\n",
              "      <td>179.0</td>\n",
              "      <td>632.709497</td>\n",
              "      <td>1135.165268</td>\n",
              "      <td>23.0</td>\n",
              "      <td>112.5</td>\n",
              "      <td>250.0</td>\n",
              "      <td>582.0</td>\n",
              "      <td>7861.0</td>\n",
              "    </tr>\n",
              "    <tr>\n",
              "      <th>diabetes</th>\n",
              "      <td>179.0</td>\n",
              "      <td>0.435754</td>\n",
              "      <td>0.497246</td>\n",
              "      <td>0.0</td>\n",
              "      <td>0.0</td>\n",
              "      <td>0.0</td>\n",
              "      <td>1.0</td>\n",
              "      <td>1.0</td>\n",
              "    </tr>\n",
              "    <tr>\n",
              "      <th>ejection_fraction</th>\n",
              "      <td>179.0</td>\n",
              "      <td>36.972067</td>\n",
              "      <td>11.035403</td>\n",
              "      <td>15.0</td>\n",
              "      <td>30.0</td>\n",
              "      <td>35.0</td>\n",
              "      <td>40.0</td>\n",
              "      <td>70.0</td>\n",
              "    </tr>\n",
              "    <tr>\n",
              "      <th>high_blood_pressure</th>\n",
              "      <td>179.0</td>\n",
              "      <td>0.318436</td>\n",
              "      <td>0.467176</td>\n",
              "      <td>0.0</td>\n",
              "      <td>0.0</td>\n",
              "      <td>0.0</td>\n",
              "      <td>1.0</td>\n",
              "      <td>1.0</td>\n",
              "    </tr>\n",
              "    <tr>\n",
              "      <th>platelets</th>\n",
              "      <td>179.0</td>\n",
              "      <td>260199.600447</td>\n",
              "      <td>103773.664972</td>\n",
              "      <td>47000.0</td>\n",
              "      <td>208000.0</td>\n",
              "      <td>253000.0</td>\n",
              "      <td>294500.0</td>\n",
              "      <td>850000.0</td>\n",
              "    </tr>\n",
              "    <tr>\n",
              "      <th>serum_creatinine</th>\n",
              "      <td>179.0</td>\n",
              "      <td>1.411508</td>\n",
              "      <td>1.019396</td>\n",
              "      <td>0.6</td>\n",
              "      <td>1.0</td>\n",
              "      <td>1.1</td>\n",
              "      <td>1.4</td>\n",
              "      <td>9.0</td>\n",
              "    </tr>\n",
              "    <tr>\n",
              "      <th>serum_sodium</th>\n",
              "      <td>179.0</td>\n",
              "      <td>136.726257</td>\n",
              "      <td>4.306767</td>\n",
              "      <td>113.0</td>\n",
              "      <td>135.0</td>\n",
              "      <td>137.0</td>\n",
              "      <td>139.0</td>\n",
              "      <td>146.0</td>\n",
              "    </tr>\n",
              "    <tr>\n",
              "      <th>sex</th>\n",
              "      <td>179.0</td>\n",
              "      <td>0.670391</td>\n",
              "      <td>0.471390</td>\n",
              "      <td>0.0</td>\n",
              "      <td>0.0</td>\n",
              "      <td>1.0</td>\n",
              "      <td>1.0</td>\n",
              "      <td>1.0</td>\n",
              "    </tr>\n",
              "    <tr>\n",
              "      <th>smoking</th>\n",
              "      <td>179.0</td>\n",
              "      <td>0.357542</td>\n",
              "      <td>0.480621</td>\n",
              "      <td>0.0</td>\n",
              "      <td>0.0</td>\n",
              "      <td>0.0</td>\n",
              "      <td>1.0</td>\n",
              "      <td>1.0</td>\n",
              "    </tr>\n",
              "  </tbody>\n",
              "</table>\n",
              "</div>"
            ],
            "text/plain": [
              "                          count           mean  ...       75%       max\n",
              "age                       179.0      60.668531  ...      67.5      95.0\n",
              "anaemia                   179.0       0.418994  ...       1.0       1.0\n",
              "creatinine_phosphokinase  179.0     632.709497  ...     582.0    7861.0\n",
              "diabetes                  179.0       0.435754  ...       1.0       1.0\n",
              "ejection_fraction         179.0      36.972067  ...      40.0      70.0\n",
              "high_blood_pressure       179.0       0.318436  ...       1.0       1.0\n",
              "platelets                 179.0  260199.600447  ...  294500.0  850000.0\n",
              "serum_creatinine          179.0       1.411508  ...       1.4       9.0\n",
              "serum_sodium              179.0     136.726257  ...     139.0     146.0\n",
              "sex                       179.0       0.670391  ...       1.0       1.0\n",
              "smoking                   179.0       0.357542  ...       1.0       1.0\n",
              "\n",
              "[11 rows x 8 columns]"
            ]
          },
          "metadata": {
            "tags": []
          },
          "execution_count": 21
        }
      ]
    },
    {
      "cell_type": "code",
      "metadata": {
        "id": "lsG5KRCTjw56"
      },
      "source": [
        "# Removing the target vaiables and saving in different dataframes.\n",
        "train_labels = train_data.pop('DEATH_EVENT')\n",
        "test_labels = test_data.pop('DEATH_EVENT')\n",
        "valid_labels = valid_data.pop('DEATH_EVENT')"
      ],
      "execution_count": 22,
      "outputs": []
    },
    {
      "cell_type": "markdown",
      "metadata": {
        "id": "VJgIknjYVAUi"
      },
      "source": [
        "# **Normalising the data**"
      ]
    },
    {
      "cell_type": "code",
      "metadata": {
        "id": "B86GcTsDvgND"
      },
      "source": [
        "def norm(x) : \n",
        "  return (x-train_stats['mean'])/(train_stats['std'])"
      ],
      "execution_count": 23,
      "outputs": []
    },
    {
      "cell_type": "code",
      "metadata": {
        "id": "g8r4HEwdv4Er"
      },
      "source": [
        "normed_train_data = norm(train_data)\n",
        "normed_test_data = norm(test_data)\n",
        "normed_valid_data = norm(valid_data)"
      ],
      "execution_count": 24,
      "outputs": []
    },
    {
      "cell_type": "code",
      "metadata": {
        "colab": {
          "base_uri": "https://localhost:8080/",
          "height": 357
        },
        "id": "ckTiqU7NWwxx",
        "outputId": "65f1cc18-1009-4bf5-9f50-7e6ff5f1e345"
      },
      "source": [
        "normed_train_data.head(10)"
      ],
      "execution_count": 25,
      "outputs": [
        {
          "output_type": "execute_result",
          "data": {
            "text/html": [
              "<div>\n",
              "<style scoped>\n",
              "    .dataframe tbody tr th:only-of-type {\n",
              "        vertical-align: middle;\n",
              "    }\n",
              "\n",
              "    .dataframe tbody tr th {\n",
              "        vertical-align: top;\n",
              "    }\n",
              "\n",
              "    .dataframe thead th {\n",
              "        text-align: right;\n",
              "    }\n",
              "</style>\n",
              "<table border=\"1\" class=\"dataframe\">\n",
              "  <thead>\n",
              "    <tr style=\"text-align: right;\">\n",
              "      <th></th>\n",
              "      <th>age</th>\n",
              "      <th>anaemia</th>\n",
              "      <th>creatinine_phosphokinase</th>\n",
              "      <th>diabetes</th>\n",
              "      <th>ejection_fraction</th>\n",
              "      <th>high_blood_pressure</th>\n",
              "      <th>platelets</th>\n",
              "      <th>serum_creatinine</th>\n",
              "      <th>serum_sodium</th>\n",
              "      <th>sex</th>\n",
              "      <th>smoking</th>\n",
              "    </tr>\n",
              "  </thead>\n",
              "  <tbody>\n",
              "    <tr>\n",
              "      <th>146</th>\n",
              "      <td>-0.732780</td>\n",
              "      <td>-0.846832</td>\n",
              "      <td>-0.441090</td>\n",
              "      <td>-0.876335</td>\n",
              "      <td>-0.631791</td>\n",
              "      <td>-0.681618</td>\n",
              "      <td>-0.406650</td>\n",
              "      <td>-0.697970</td>\n",
              "      <td>-0.168632</td>\n",
              "      <td>0.699228</td>\n",
              "      <td>1.336726</td>\n",
              "    </tr>\n",
              "    <tr>\n",
              "      <th>268</th>\n",
              "      <td>-1.324513</td>\n",
              "      <td>-0.846832</td>\n",
              "      <td>-0.044671</td>\n",
              "      <td>1.134741</td>\n",
              "      <td>0.093149</td>\n",
              "      <td>-0.681618</td>\n",
              "      <td>0.402804</td>\n",
              "      <td>-0.501776</td>\n",
              "      <td>0.760139</td>\n",
              "      <td>-1.422159</td>\n",
              "      <td>-0.743917</td>\n",
              "    </tr>\n",
              "    <tr>\n",
              "      <th>35</th>\n",
              "      <td>0.704287</td>\n",
              "      <td>-0.846832</td>\n",
              "      <td>-0.044671</td>\n",
              "      <td>1.134741</td>\n",
              "      <td>-0.178704</td>\n",
              "      <td>-0.681618</td>\n",
              "      <td>-0.310287</td>\n",
              "      <td>2.048753</td>\n",
              "      <td>-0.633017</td>\n",
              "      <td>0.699228</td>\n",
              "      <td>-0.743917</td>\n",
              "    </tr>\n",
              "    <tr>\n",
              "      <th>51</th>\n",
              "      <td>-0.648246</td>\n",
              "      <td>1.174274</td>\n",
              "      <td>-0.477208</td>\n",
              "      <td>-0.876335</td>\n",
              "      <td>-1.537965</td>\n",
              "      <td>1.458902</td>\n",
              "      <td>1.520621</td>\n",
              "      <td>-0.011289</td>\n",
              "      <td>0.527947</td>\n",
              "      <td>-1.422159</td>\n",
              "      <td>-0.743917</td>\n",
              "    </tr>\n",
              "    <tr>\n",
              "      <th>56</th>\n",
              "      <td>0.788820</td>\n",
              "      <td>1.174274</td>\n",
              "      <td>-0.491302</td>\n",
              "      <td>-0.876335</td>\n",
              "      <td>-0.178704</td>\n",
              "      <td>-0.681618</td>\n",
              "      <td>-0.358469</td>\n",
              "      <td>1.263975</td>\n",
              "      <td>0.295754</td>\n",
              "      <td>0.699228</td>\n",
              "      <td>1.336726</td>\n",
              "    </tr>\n",
              "    <tr>\n",
              "      <th>77</th>\n",
              "      <td>-1.578113</td>\n",
              "      <td>-0.846832</td>\n",
              "      <td>-0.467517</td>\n",
              "      <td>1.134741</td>\n",
              "      <td>0.274384</td>\n",
              "      <td>-0.681618</td>\n",
              "      <td>-0.223560</td>\n",
              "      <td>-0.207484</td>\n",
              "      <td>0.760139</td>\n",
              "      <td>0.699228</td>\n",
              "      <td>-0.743917</td>\n",
              "    </tr>\n",
              "    <tr>\n",
              "      <th>224</th>\n",
              "      <td>-0.225580</td>\n",
              "      <td>-0.846832</td>\n",
              "      <td>-0.044671</td>\n",
              "      <td>1.134741</td>\n",
              "      <td>-1.084878</td>\n",
              "      <td>-0.681618</td>\n",
              "      <td>2.349347</td>\n",
              "      <td>-0.403678</td>\n",
              "      <td>0.295754</td>\n",
              "      <td>0.699228</td>\n",
              "      <td>-0.743917</td>\n",
              "    </tr>\n",
              "    <tr>\n",
              "      <th>193</th>\n",
              "      <td>1.042420</td>\n",
              "      <td>1.174274</td>\n",
              "      <td>-0.353878</td>\n",
              "      <td>1.134741</td>\n",
              "      <td>-0.631791</td>\n",
              "      <td>-0.681618</td>\n",
              "      <td>-0.965559</td>\n",
              "      <td>-0.227103</td>\n",
              "      <td>1.224525</td>\n",
              "      <td>0.699228</td>\n",
              "      <td>1.336726</td>\n",
              "    </tr>\n",
              "    <tr>\n",
              "      <th>293</th>\n",
              "      <td>0.197087</td>\n",
              "      <td>1.174274</td>\n",
              "      <td>-0.466636</td>\n",
              "      <td>1.134741</td>\n",
              "      <td>-0.178704</td>\n",
              "      <td>-0.681618</td>\n",
              "      <td>-0.782468</td>\n",
              "      <td>-0.501776</td>\n",
              "      <td>-0.168632</td>\n",
              "      <td>0.699228</td>\n",
              "      <td>1.336726</td>\n",
              "    </tr>\n",
              "    <tr>\n",
              "      <th>215</th>\n",
              "      <td>1.042420</td>\n",
              "      <td>-0.846832</td>\n",
              "      <td>-0.044671</td>\n",
              "      <td>-0.876335</td>\n",
              "      <td>-0.178704</td>\n",
              "      <td>1.458902</td>\n",
              "      <td>-0.551196</td>\n",
              "      <td>-0.109387</td>\n",
              "      <td>-0.633017</td>\n",
              "      <td>0.699228</td>\n",
              "      <td>-0.743917</td>\n",
              "    </tr>\n",
              "  </tbody>\n",
              "</table>\n",
              "</div>"
            ],
            "text/plain": [
              "          age   anaemia  ...       sex   smoking\n",
              "146 -0.732780 -0.846832  ...  0.699228  1.336726\n",
              "268 -1.324513 -0.846832  ... -1.422159 -0.743917\n",
              "35   0.704287 -0.846832  ...  0.699228 -0.743917\n",
              "51  -0.648246  1.174274  ... -1.422159 -0.743917\n",
              "56   0.788820  1.174274  ...  0.699228  1.336726\n",
              "77  -1.578113 -0.846832  ...  0.699228 -0.743917\n",
              "224 -0.225580 -0.846832  ...  0.699228 -0.743917\n",
              "193  1.042420  1.174274  ...  0.699228  1.336726\n",
              "293  0.197087  1.174274  ...  0.699228  1.336726\n",
              "215  1.042420 -0.846832  ...  0.699228 -0.743917\n",
              "\n",
              "[10 rows x 11 columns]"
            ]
          },
          "metadata": {
            "tags": []
          },
          "execution_count": 25
        }
      ]
    },
    {
      "cell_type": "code",
      "metadata": {
        "colab": {
          "base_uri": "https://localhost:8080/",
          "height": 388
        },
        "id": "BeiReiCGwkuQ",
        "outputId": "04e3dc73-970f-461f-9d6b-d9242945a64f"
      },
      "source": [
        "normed_train_data.describe().transpose()"
      ],
      "execution_count": 26,
      "outputs": [
        {
          "output_type": "execute_result",
          "data": {
            "text/html": [
              "<div>\n",
              "<style scoped>\n",
              "    .dataframe tbody tr th:only-of-type {\n",
              "        vertical-align: middle;\n",
              "    }\n",
              "\n",
              "    .dataframe tbody tr th {\n",
              "        vertical-align: top;\n",
              "    }\n",
              "\n",
              "    .dataframe thead th {\n",
              "        text-align: right;\n",
              "    }\n",
              "</style>\n",
              "<table border=\"1\" class=\"dataframe\">\n",
              "  <thead>\n",
              "    <tr style=\"text-align: right;\">\n",
              "      <th></th>\n",
              "      <th>count</th>\n",
              "      <th>mean</th>\n",
              "      <th>std</th>\n",
              "      <th>min</th>\n",
              "      <th>25%</th>\n",
              "      <th>50%</th>\n",
              "      <th>75%</th>\n",
              "      <th>max</th>\n",
              "    </tr>\n",
              "  </thead>\n",
              "  <tbody>\n",
              "    <tr>\n",
              "      <th>age</th>\n",
              "      <td>179.0</td>\n",
              "      <td>9.675687e-17</td>\n",
              "      <td>1.0</td>\n",
              "      <td>-1.747180</td>\n",
              "      <td>-0.817313</td>\n",
              "      <td>-0.056513</td>\n",
              "      <td>0.577487</td>\n",
              "      <td>2.902153</td>\n",
              "    </tr>\n",
              "    <tr>\n",
              "      <th>anaemia</th>\n",
              "      <td>179.0</td>\n",
              "      <td>-1.860709e-17</td>\n",
              "      <td>1.0</td>\n",
              "      <td>-0.846832</td>\n",
              "      <td>-0.846832</td>\n",
              "      <td>-0.846832</td>\n",
              "      <td>1.174274</td>\n",
              "      <td>1.174274</td>\n",
              "    </tr>\n",
              "    <tr>\n",
              "      <th>creatinine_phosphokinase</th>\n",
              "      <td>179.0</td>\n",
              "      <td>6.202363e-18</td>\n",
              "      <td>1.0</td>\n",
              "      <td>-0.537111</td>\n",
              "      <td>-0.458268</td>\n",
              "      <td>-0.337140</td>\n",
              "      <td>-0.044671</td>\n",
              "      <td>6.367611</td>\n",
              "    </tr>\n",
              "    <tr>\n",
              "      <th>diabetes</th>\n",
              "      <td>179.0</td>\n",
              "      <td>-8.311167e-17</td>\n",
              "      <td>1.0</td>\n",
              "      <td>-0.876335</td>\n",
              "      <td>-0.876335</td>\n",
              "      <td>-0.876335</td>\n",
              "      <td>1.134741</td>\n",
              "      <td>1.134741</td>\n",
              "    </tr>\n",
              "    <tr>\n",
              "      <th>ejection_fraction</th>\n",
              "      <td>179.0</td>\n",
              "      <td>2.580183e-16</td>\n",
              "      <td>1.0</td>\n",
              "      <td>-1.991053</td>\n",
              "      <td>-0.631791</td>\n",
              "      <td>-0.178704</td>\n",
              "      <td>0.274384</td>\n",
              "      <td>2.992907</td>\n",
              "    </tr>\n",
              "    <tr>\n",
              "      <th>high_blood_pressure</th>\n",
              "      <td>179.0</td>\n",
              "      <td>6.450458e-17</td>\n",
              "      <td>1.0</td>\n",
              "      <td>-0.681618</td>\n",
              "      <td>-0.681618</td>\n",
              "      <td>-0.681618</td>\n",
              "      <td>1.458902</td>\n",
              "      <td>1.458902</td>\n",
              "    </tr>\n",
              "    <tr>\n",
              "      <th>platelets</th>\n",
              "      <td>179.0</td>\n",
              "      <td>-6.524886e-16</td>\n",
              "      <td>1.0</td>\n",
              "      <td>-2.054467</td>\n",
              "      <td>-0.503014</td>\n",
              "      <td>-0.069378</td>\n",
              "      <td>0.330531</td>\n",
              "      <td>5.683527</td>\n",
              "    </tr>\n",
              "    <tr>\n",
              "      <th>serum_creatinine</th>\n",
              "      <td>179.0</td>\n",
              "      <td>-2.208041e-16</td>\n",
              "      <td>1.0</td>\n",
              "      <td>-0.796068</td>\n",
              "      <td>-0.403678</td>\n",
              "      <td>-0.305581</td>\n",
              "      <td>-0.011289</td>\n",
              "      <td>7.444103</td>\n",
              "    </tr>\n",
              "    <tr>\n",
              "      <th>serum_sodium</th>\n",
              "      <td>179.0</td>\n",
              "      <td>-2.276267e-15</td>\n",
              "      <td>1.0</td>\n",
              "      <td>-5.509065</td>\n",
              "      <td>-0.400824</td>\n",
              "      <td>0.063561</td>\n",
              "      <td>0.527947</td>\n",
              "      <td>2.153296</td>\n",
              "    </tr>\n",
              "    <tr>\n",
              "      <th>sex</th>\n",
              "      <td>179.0</td>\n",
              "      <td>1.141235e-16</td>\n",
              "      <td>1.0</td>\n",
              "      <td>-1.422159</td>\n",
              "      <td>-1.422159</td>\n",
              "      <td>0.699228</td>\n",
              "      <td>0.699228</td>\n",
              "      <td>0.699228</td>\n",
              "    </tr>\n",
              "    <tr>\n",
              "      <th>smoking</th>\n",
              "      <td>179.0</td>\n",
              "      <td>-1.079211e-16</td>\n",
              "      <td>1.0</td>\n",
              "      <td>-0.743917</td>\n",
              "      <td>-0.743917</td>\n",
              "      <td>-0.743917</td>\n",
              "      <td>1.336726</td>\n",
              "      <td>1.336726</td>\n",
              "    </tr>\n",
              "  </tbody>\n",
              "</table>\n",
              "</div>"
            ],
            "text/plain": [
              "                          count          mean  ...       75%       max\n",
              "age                       179.0  9.675687e-17  ...  0.577487  2.902153\n",
              "anaemia                   179.0 -1.860709e-17  ...  1.174274  1.174274\n",
              "creatinine_phosphokinase  179.0  6.202363e-18  ... -0.044671  6.367611\n",
              "diabetes                  179.0 -8.311167e-17  ...  1.134741  1.134741\n",
              "ejection_fraction         179.0  2.580183e-16  ...  0.274384  2.992907\n",
              "high_blood_pressure       179.0  6.450458e-17  ...  1.458902  1.458902\n",
              "platelets                 179.0 -6.524886e-16  ...  0.330531  5.683527\n",
              "serum_creatinine          179.0 -2.208041e-16  ... -0.011289  7.444103\n",
              "serum_sodium              179.0 -2.276267e-15  ...  0.527947  2.153296\n",
              "sex                       179.0  1.141235e-16  ...  0.699228  0.699228\n",
              "smoking                   179.0 -1.079211e-16  ...  1.336726  1.336726\n",
              "\n",
              "[11 rows x 8 columns]"
            ]
          },
          "metadata": {
            "tags": []
          },
          "execution_count": 26
        }
      ]
    },
    {
      "cell_type": "markdown",
      "metadata": {
        "id": "DZybJDOkxOqW"
      },
      "source": [
        "# ***Building the Neural Network***"
      ]
    },
    {
      "cell_type": "code",
      "metadata": {
        "colab": {
          "base_uri": "https://localhost:8080/"
        },
        "id": "cabgPEuExBlO",
        "outputId": "1ea7a55f-d727-4c9b-96e5-c6b7431b25ae"
      },
      "source": [
        "# We declare a function for modelling.\n",
        "def build_model_3hidden_layers():\n",
        "  # Keras model object, container that contains all the layers.\n",
        "  model = Sequential()\n",
        "  # Input layer with 32 Neurons.\n",
        "  model.add(Dense(32, input_shape = (normed_train_data.shape[1],)))\n",
        "\n",
        "\n",
        "  model.add(Dense(32,Activation('relu')))\n",
        "\n",
        "  model.add(Dense(64,Activation('relu')))\n",
        "\n",
        "  model.add(Dense(64,Activation('relu')))\n",
        "\n",
        "  model.add(Dense(128,Activation('relu')))\n",
        "\n",
        "  model.add(Dense(1))\n",
        "\n",
        "  learning_rate = 0.001\n",
        "  optimizer = optimizers.SGD(learning_rate)\n",
        "  model.compile( loss = tf.keras.losses.BinaryCrossentropy( from_logits= True ) ,\n",
        "              optimizer = optimizer ,\n",
        "              metrics=['accuracy'])\n",
        "\n",
        "#softmax\n",
        "\n",
        "  return model\n",
        "  return model\n",
        "\n",
        "model2 = build_model_3hidden_layers()\n",
        "print('Summary of the model : ')\n",
        "model2.summary()\n",
        "\n",
        "\n"
      ],
      "execution_count": 27,
      "outputs": [
        {
          "output_type": "stream",
          "text": [
            "Summary of the model : \n",
            "Model: \"sequential\"\n",
            "_________________________________________________________________\n",
            "Layer (type)                 Output Shape              Param #   \n",
            "=================================================================\n",
            "dense (Dense)                (None, 32)                384       \n",
            "_________________________________________________________________\n",
            "dense_1 (Dense)              (None, 32)                1056      \n",
            "_________________________________________________________________\n",
            "dense_2 (Dense)              (None, 64)                2112      \n",
            "_________________________________________________________________\n",
            "dense_3 (Dense)              (None, 64)                4160      \n",
            "_________________________________________________________________\n",
            "dense_4 (Dense)              (None, 128)               8320      \n",
            "_________________________________________________________________\n",
            "dense_5 (Dense)              (None, 1)                 129       \n",
            "=================================================================\n",
            "Total params: 16,161\n",
            "Trainable params: 16,161\n",
            "Non-trainable params: 0\n",
            "_________________________________________________________________\n"
          ],
          "name": "stdout"
        }
      ]
    },
    {
      "cell_type": "markdown",
      "metadata": {
        "id": "gjFxV3iVolAE"
      },
      "source": [
        "# **Training the data**"
      ]
    },
    {
      "cell_type": "code",
      "metadata": {
        "colab": {
          "base_uri": "https://localhost:8080/"
        },
        "id": "5kpIY6LjgmB3",
        "outputId": "b1a47d80-2825-4218-9062-fa7fba3291f8"
      },
      "source": [
        "def build_model_2hidden_layers() :\n",
        "  \n",
        "  model = Sequential()\n",
        "\n",
        "  #Input layer\n",
        "  model.add(Dense(32, input_shape = (normed_train_data.shape[1],)))\n",
        "  model.add(Dense(128,Activation('relu')))\n",
        "\n",
        "  model.add(Dense(1))\n",
        "\n",
        "  learning_rate = 0.0001\n",
        "  optimizer = optimizers.SGD(learning_rate)\n",
        "  model.compile( loss = tf.keras.losses.BinaryCrossentropy(from_logits=True), optimizer=optimizer, metrics=['accuracy'])\n",
        "\n",
        "  return model\n",
        "\n",
        "\n",
        "\n",
        "model=build_model_2hidden_layers()\n",
        "print('Summary of the model : ')\n",
        "model.summary()\n",
        "\n"
      ],
      "execution_count": 28,
      "outputs": [
        {
          "output_type": "stream",
          "text": [
            "Summary of the model : \n",
            "Model: \"sequential_1\"\n",
            "_________________________________________________________________\n",
            "Layer (type)                 Output Shape              Param #   \n",
            "=================================================================\n",
            "dense_6 (Dense)              (None, 32)                384       \n",
            "_________________________________________________________________\n",
            "dense_7 (Dense)              (None, 128)               4224      \n",
            "_________________________________________________________________\n",
            "dense_8 (Dense)              (None, 1)                 129       \n",
            "=================================================================\n",
            "Total params: 4,737\n",
            "Trainable params: 4,737\n",
            "Non-trainable params: 0\n",
            "_________________________________________________________________\n"
          ],
          "name": "stdout"
        }
      ]
    },
    {
      "cell_type": "code",
      "metadata": {
        "colab": {
          "base_uri": "https://localhost:8080/"
        },
        "id": "cFN6cAlWljyM",
        "outputId": "79e39270-acec-4415-bd31-d8d7b8b86f56"
      },
      "source": [
        "EPOCHS = 256\n",
        "batch_size = 16\n",
        "\n",
        "history = model.fit(\n",
        "    normed_train_data,\n",
        "    train_labels,\n",
        "    batch_size = batch_size,\n",
        "    epochs = EPOCHS,\n",
        "    verbose = 1,\n",
        "    shuffle = True,\n",
        "    steps_per_epoch = int(normed_train_data.shape[0]/batch_size),\n",
        "    validation_data = (normed_valid_data, valid_labels)\n",
        "\n",
        ")"
      ],
      "execution_count": 29,
      "outputs": [
        {
          "output_type": "stream",
          "text": [
            "Epoch 1/256\n",
            "11/11 [==============================] - 3s 24ms/step - loss: 0.7514 - accuracy: 0.5909 - val_loss: 0.7432 - val_accuracy: 0.6500\n",
            "Epoch 2/256\n",
            "11/11 [==============================] - 0s 5ms/step - loss: 0.7480 - accuracy: 0.5828 - val_loss: 0.7428 - val_accuracy: 0.6333\n",
            "Epoch 3/256\n",
            "11/11 [==============================] - 0s 6ms/step - loss: 0.7444 - accuracy: 0.6012 - val_loss: 0.7423 - val_accuracy: 0.6500\n",
            "Epoch 4/256\n",
            "11/11 [==============================] - 0s 6ms/step - loss: 0.7601 - accuracy: 0.6319 - val_loss: 0.7417 - val_accuracy: 0.6500\n",
            "Epoch 5/256\n",
            "11/11 [==============================] - 0s 5ms/step - loss: 0.7542 - accuracy: 0.5215 - val_loss: 0.7415 - val_accuracy: 0.6500\n",
            "Epoch 6/256\n",
            "11/11 [==============================] - 0s 6ms/step - loss: 0.7342 - accuracy: 0.6074 - val_loss: 0.7410 - val_accuracy: 0.6500\n",
            "Epoch 7/256\n",
            "11/11 [==============================] - 0s 5ms/step - loss: 0.7396 - accuracy: 0.5828 - val_loss: 0.7406 - val_accuracy: 0.6500\n",
            "Epoch 8/256\n",
            "11/11 [==============================] - 0s 5ms/step - loss: 0.7551 - accuracy: 0.6196 - val_loss: 0.7401 - val_accuracy: 0.6500\n",
            "Epoch 9/256\n",
            "11/11 [==============================] - 0s 5ms/step - loss: 0.7430 - accuracy: 0.5521 - val_loss: 0.7398 - val_accuracy: 0.6500\n",
            "Epoch 10/256\n",
            "11/11 [==============================] - 0s 5ms/step - loss: 0.7462 - accuracy: 0.5951 - val_loss: 0.7393 - val_accuracy: 0.6500\n",
            "Epoch 11/256\n",
            "11/11 [==============================] - 0s 7ms/step - loss: 0.7520 - accuracy: 0.6442 - val_loss: 0.7389 - val_accuracy: 0.6500\n",
            "Epoch 12/256\n",
            "11/11 [==============================] - 0s 5ms/step - loss: 0.7387 - accuracy: 0.5706 - val_loss: 0.7385 - val_accuracy: 0.6500\n",
            "Epoch 13/256\n",
            "11/11 [==============================] - 0s 5ms/step - loss: 0.7449 - accuracy: 0.5852 - val_loss: 0.7381 - val_accuracy: 0.6500\n",
            "Epoch 14/256\n",
            "11/11 [==============================] - 0s 7ms/step - loss: 0.7477 - accuracy: 0.6012 - val_loss: 0.7376 - val_accuracy: 0.6500\n",
            "Epoch 15/256\n",
            "11/11 [==============================] - 0s 5ms/step - loss: 0.7399 - accuracy: 0.5767 - val_loss: 0.7372 - val_accuracy: 0.6500\n",
            "Epoch 16/256\n",
            "11/11 [==============================] - 0s 5ms/step - loss: 0.7421 - accuracy: 0.6258 - val_loss: 0.7368 - val_accuracy: 0.6500\n",
            "Epoch 17/256\n",
            "11/11 [==============================] - 0s 5ms/step - loss: 0.7243 - accuracy: 0.5951 - val_loss: 0.7364 - val_accuracy: 0.6500\n",
            "Epoch 18/256\n",
            "11/11 [==============================] - 0s 6ms/step - loss: 0.7533 - accuracy: 0.5644 - val_loss: 0.7361 - val_accuracy: 0.6500\n",
            "Epoch 19/256\n",
            "11/11 [==============================] - 0s 6ms/step - loss: 0.7494 - accuracy: 0.6074 - val_loss: 0.7357 - val_accuracy: 0.6500\n",
            "Epoch 20/256\n",
            "11/11 [==============================] - 0s 7ms/step - loss: 0.7447 - accuracy: 0.6196 - val_loss: 0.7353 - val_accuracy: 0.6500\n",
            "Epoch 21/256\n",
            "11/11 [==============================] - 0s 5ms/step - loss: 0.7414 - accuracy: 0.5828 - val_loss: 0.7348 - val_accuracy: 0.6500\n",
            "Epoch 22/256\n",
            "11/11 [==============================] - 0s 5ms/step - loss: 0.7389 - accuracy: 0.6135 - val_loss: 0.7345 - val_accuracy: 0.6500\n",
            "Epoch 23/256\n",
            "11/11 [==============================] - 0s 5ms/step - loss: 0.7402 - accuracy: 0.6135 - val_loss: 0.7341 - val_accuracy: 0.6500\n",
            "Epoch 24/256\n",
            "11/11 [==============================] - 0s 5ms/step - loss: 0.7398 - accuracy: 0.5951 - val_loss: 0.7337 - val_accuracy: 0.6500\n",
            "Epoch 25/256\n",
            "11/11 [==============================] - 0s 5ms/step - loss: 0.7406 - accuracy: 0.6023 - val_loss: 0.7333 - val_accuracy: 0.6500\n",
            "Epoch 26/256\n",
            "11/11 [==============================] - 0s 6ms/step - loss: 0.7421 - accuracy: 0.6135 - val_loss: 0.7329 - val_accuracy: 0.6500\n",
            "Epoch 27/256\n",
            "11/11 [==============================] - 0s 5ms/step - loss: 0.7302 - accuracy: 0.5767 - val_loss: 0.7326 - val_accuracy: 0.6500\n",
            "Epoch 28/256\n",
            "11/11 [==============================] - 0s 5ms/step - loss: 0.7420 - accuracy: 0.6319 - val_loss: 0.7321 - val_accuracy: 0.6500\n",
            "Epoch 29/256\n",
            "11/11 [==============================] - 0s 5ms/step - loss: 0.7301 - accuracy: 0.6503 - val_loss: 0.7317 - val_accuracy: 0.6500\n",
            "Epoch 30/256\n",
            "11/11 [==============================] - 0s 5ms/step - loss: 0.7391 - accuracy: 0.5706 - val_loss: 0.7314 - val_accuracy: 0.6500\n",
            "Epoch 31/256\n",
            "11/11 [==============================] - 0s 5ms/step - loss: 0.7392 - accuracy: 0.6319 - val_loss: 0.7310 - val_accuracy: 0.6500\n",
            "Epoch 32/256\n",
            "11/11 [==============================] - 0s 6ms/step - loss: 0.7479 - accuracy: 0.5767 - val_loss: 0.7307 - val_accuracy: 0.6500\n",
            "Epoch 33/256\n",
            "11/11 [==============================] - 0s 6ms/step - loss: 0.7281 - accuracy: 0.6442 - val_loss: 0.7303 - val_accuracy: 0.6500\n",
            "Epoch 34/256\n",
            "11/11 [==============================] - 0s 5ms/step - loss: 0.7381 - accuracy: 0.6319 - val_loss: 0.7299 - val_accuracy: 0.6500\n",
            "Epoch 35/256\n",
            "11/11 [==============================] - 0s 7ms/step - loss: 0.7405 - accuracy: 0.6196 - val_loss: 0.7295 - val_accuracy: 0.6500\n",
            "Epoch 36/256\n",
            "11/11 [==============================] - 0s 5ms/step - loss: 0.7315 - accuracy: 0.6074 - val_loss: 0.7291 - val_accuracy: 0.6500\n",
            "Epoch 37/256\n",
            "11/11 [==============================] - 0s 5ms/step - loss: 0.7331 - accuracy: 0.6307 - val_loss: 0.7287 - val_accuracy: 0.6500\n",
            "Epoch 38/256\n",
            "11/11 [==============================] - 0s 6ms/step - loss: 0.7361 - accuracy: 0.6196 - val_loss: 0.7284 - val_accuracy: 0.6500\n",
            "Epoch 39/256\n",
            "11/11 [==============================] - 0s 5ms/step - loss: 0.7382 - accuracy: 0.6258 - val_loss: 0.7281 - val_accuracy: 0.6500\n",
            "Epoch 40/256\n",
            "11/11 [==============================] - 0s 5ms/step - loss: 0.7212 - accuracy: 0.6319 - val_loss: 0.7277 - val_accuracy: 0.6500\n",
            "Epoch 41/256\n",
            "11/11 [==============================] - 0s 5ms/step - loss: 0.7437 - accuracy: 0.6074 - val_loss: 0.7273 - val_accuracy: 0.6500\n",
            "Epoch 42/256\n",
            "11/11 [==============================] - 0s 5ms/step - loss: 0.7231 - accuracy: 0.6319 - val_loss: 0.7270 - val_accuracy: 0.6500\n",
            "Epoch 43/256\n",
            "11/11 [==============================] - 0s 6ms/step - loss: 0.7367 - accuracy: 0.6442 - val_loss: 0.7266 - val_accuracy: 0.6500\n",
            "Epoch 44/256\n",
            "11/11 [==============================] - 0s 6ms/step - loss: 0.7364 - accuracy: 0.6135 - val_loss: 0.7263 - val_accuracy: 0.6500\n",
            "Epoch 45/256\n",
            "11/11 [==============================] - 0s 5ms/step - loss: 0.7297 - accuracy: 0.6135 - val_loss: 0.7259 - val_accuracy: 0.6500\n",
            "Epoch 46/256\n",
            "11/11 [==============================] - 0s 7ms/step - loss: 0.7406 - accuracy: 0.6258 - val_loss: 0.7255 - val_accuracy: 0.6500\n",
            "Epoch 47/256\n",
            "11/11 [==============================] - 0s 6ms/step - loss: 0.7295 - accuracy: 0.6442 - val_loss: 0.7251 - val_accuracy: 0.6500\n",
            "Epoch 48/256\n",
            "11/11 [==============================] - 0s 7ms/step - loss: 0.7266 - accuracy: 0.6380 - val_loss: 0.7247 - val_accuracy: 0.6500\n",
            "Epoch 49/256\n",
            "11/11 [==============================] - 0s 5ms/step - loss: 0.7331 - accuracy: 0.6250 - val_loss: 0.7243 - val_accuracy: 0.6500\n",
            "Epoch 50/256\n",
            "11/11 [==============================] - 0s 6ms/step - loss: 0.7270 - accuracy: 0.6442 - val_loss: 0.7239 - val_accuracy: 0.6500\n",
            "Epoch 51/256\n",
            "11/11 [==============================] - 0s 5ms/step - loss: 0.7307 - accuracy: 0.6196 - val_loss: 0.7236 - val_accuracy: 0.6500\n",
            "Epoch 52/256\n",
            "11/11 [==============================] - 0s 6ms/step - loss: 0.7149 - accuracy: 0.6564 - val_loss: 0.7232 - val_accuracy: 0.6500\n",
            "Epoch 53/256\n",
            "11/11 [==============================] - 0s 5ms/step - loss: 0.7307 - accuracy: 0.6135 - val_loss: 0.7229 - val_accuracy: 0.6500\n",
            "Epoch 54/256\n",
            "11/11 [==============================] - 0s 5ms/step - loss: 0.7408 - accuracy: 0.6442 - val_loss: 0.7225 - val_accuracy: 0.6500\n",
            "Epoch 55/256\n",
            "11/11 [==============================] - 0s 5ms/step - loss: 0.7272 - accuracy: 0.6074 - val_loss: 0.7222 - val_accuracy: 0.6500\n",
            "Epoch 56/256\n",
            "11/11 [==============================] - 0s 6ms/step - loss: 0.7289 - accuracy: 0.6319 - val_loss: 0.7219 - val_accuracy: 0.6500\n",
            "Epoch 57/256\n",
            "11/11 [==============================] - 0s 6ms/step - loss: 0.7147 - accuracy: 0.6442 - val_loss: 0.7215 - val_accuracy: 0.6500\n",
            "Epoch 58/256\n",
            "11/11 [==============================] - 0s 6ms/step - loss: 0.7478 - accuracy: 0.6258 - val_loss: 0.7211 - val_accuracy: 0.6500\n",
            "Epoch 59/256\n",
            "11/11 [==============================] - 0s 5ms/step - loss: 0.7158 - accuracy: 0.6442 - val_loss: 0.7208 - val_accuracy: 0.6500\n",
            "Epoch 60/256\n",
            "11/11 [==============================] - 0s 6ms/step - loss: 0.7286 - accuracy: 0.6258 - val_loss: 0.7205 - val_accuracy: 0.6500\n",
            "Epoch 61/256\n",
            "11/11 [==============================] - 0s 7ms/step - loss: 0.7296 - accuracy: 0.6364 - val_loss: 0.7201 - val_accuracy: 0.6500\n",
            "Epoch 62/256\n",
            "11/11 [==============================] - 0s 6ms/step - loss: 0.7274 - accuracy: 0.6380 - val_loss: 0.7198 - val_accuracy: 0.6500\n",
            "Epoch 63/256\n",
            "11/11 [==============================] - 0s 6ms/step - loss: 0.7124 - accuracy: 0.6380 - val_loss: 0.7194 - val_accuracy: 0.6500\n",
            "Epoch 64/256\n",
            "11/11 [==============================] - 0s 5ms/step - loss: 0.7307 - accuracy: 0.6626 - val_loss: 0.7191 - val_accuracy: 0.6500\n",
            "Epoch 65/256\n",
            "11/11 [==============================] - 0s 5ms/step - loss: 0.7188 - accuracy: 0.6442 - val_loss: 0.7187 - val_accuracy: 0.6500\n",
            "Epoch 66/256\n",
            "11/11 [==============================] - 0s 6ms/step - loss: 0.7278 - accuracy: 0.6380 - val_loss: 0.7183 - val_accuracy: 0.6500\n",
            "Epoch 67/256\n",
            "11/11 [==============================] - 0s 7ms/step - loss: 0.7305 - accuracy: 0.6196 - val_loss: 0.7180 - val_accuracy: 0.6500\n",
            "Epoch 68/256\n",
            "11/11 [==============================] - 0s 7ms/step - loss: 0.7206 - accuracy: 0.6442 - val_loss: 0.7177 - val_accuracy: 0.6500\n",
            "Epoch 69/256\n",
            "11/11 [==============================] - 0s 6ms/step - loss: 0.7211 - accuracy: 0.6442 - val_loss: 0.7174 - val_accuracy: 0.6500\n",
            "Epoch 70/256\n",
            "11/11 [==============================] - 0s 7ms/step - loss: 0.7216 - accuracy: 0.6626 - val_loss: 0.7171 - val_accuracy: 0.6500\n",
            "Epoch 71/256\n",
            "11/11 [==============================] - 0s 5ms/step - loss: 0.7246 - accuracy: 0.6442 - val_loss: 0.7167 - val_accuracy: 0.6500\n",
            "Epoch 72/256\n",
            "11/11 [==============================] - 0s 6ms/step - loss: 0.7237 - accuracy: 0.6503 - val_loss: 0.7163 - val_accuracy: 0.6667\n",
            "Epoch 73/256\n",
            "11/11 [==============================] - 0s 5ms/step - loss: 0.7231 - accuracy: 0.6477 - val_loss: 0.7160 - val_accuracy: 0.6667\n",
            "Epoch 74/256\n",
            "11/11 [==============================] - 0s 5ms/step - loss: 0.7203 - accuracy: 0.6626 - val_loss: 0.7156 - val_accuracy: 0.6667\n",
            "Epoch 75/256\n",
            "11/11 [==============================] - 0s 5ms/step - loss: 0.7208 - accuracy: 0.5951 - val_loss: 0.7153 - val_accuracy: 0.6667\n",
            "Epoch 76/256\n",
            "11/11 [==============================] - 0s 5ms/step - loss: 0.7123 - accuracy: 0.6687 - val_loss: 0.7150 - val_accuracy: 0.7000\n",
            "Epoch 77/256\n",
            "11/11 [==============================] - 0s 5ms/step - loss: 0.7354 - accuracy: 0.6564 - val_loss: 0.7146 - val_accuracy: 0.7000\n",
            "Epoch 78/256\n",
            "11/11 [==============================] - 0s 5ms/step - loss: 0.7200 - accuracy: 0.6380 - val_loss: 0.7142 - val_accuracy: 0.7000\n",
            "Epoch 79/256\n",
            "11/11 [==============================] - 0s 6ms/step - loss: 0.7057 - accuracy: 0.6748 - val_loss: 0.7139 - val_accuracy: 0.7000\n",
            "Epoch 80/256\n",
            "11/11 [==============================] - 0s 5ms/step - loss: 0.7166 - accuracy: 0.6564 - val_loss: 0.7135 - val_accuracy: 0.7000\n",
            "Epoch 81/256\n",
            "11/11 [==============================] - 0s 6ms/step - loss: 0.7366 - accuracy: 0.6994 - val_loss: 0.7132 - val_accuracy: 0.7000\n",
            "Epoch 82/256\n",
            "11/11 [==============================] - 0s 5ms/step - loss: 0.7021 - accuracy: 0.6258 - val_loss: 0.7129 - val_accuracy: 0.7000\n",
            "Epoch 83/256\n",
            "11/11 [==============================] - 0s 7ms/step - loss: 0.7316 - accuracy: 0.6687 - val_loss: 0.7125 - val_accuracy: 0.7000\n",
            "Epoch 84/256\n",
            "11/11 [==============================] - 0s 5ms/step - loss: 0.7131 - accuracy: 0.6564 - val_loss: 0.7122 - val_accuracy: 0.7000\n",
            "Epoch 85/256\n",
            "11/11 [==============================] - 0s 7ms/step - loss: 0.7181 - accuracy: 0.6591 - val_loss: 0.7119 - val_accuracy: 0.7000\n",
            "Epoch 86/256\n",
            "11/11 [==============================] - 0s 6ms/step - loss: 0.7239 - accuracy: 0.6626 - val_loss: 0.7116 - val_accuracy: 0.7000\n",
            "Epoch 87/256\n",
            "11/11 [==============================] - 0s 5ms/step - loss: 0.7128 - accuracy: 0.6564 - val_loss: 0.7112 - val_accuracy: 0.7000\n",
            "Epoch 88/256\n",
            "11/11 [==============================] - 0s 5ms/step - loss: 0.7173 - accuracy: 0.6994 - val_loss: 0.7109 - val_accuracy: 0.7000\n",
            "Epoch 89/256\n",
            "11/11 [==============================] - 0s 7ms/step - loss: 0.7054 - accuracy: 0.6135 - val_loss: 0.7106 - val_accuracy: 0.7000\n",
            "Epoch 90/256\n",
            "11/11 [==============================] - 0s 7ms/step - loss: 0.7171 - accuracy: 0.6871 - val_loss: 0.7102 - val_accuracy: 0.7000\n",
            "Epoch 91/256\n",
            "11/11 [==============================] - 0s 5ms/step - loss: 0.7224 - accuracy: 0.6503 - val_loss: 0.7100 - val_accuracy: 0.7000\n",
            "Epoch 92/256\n",
            "11/11 [==============================] - 0s 6ms/step - loss: 0.7118 - accuracy: 0.6871 - val_loss: 0.7096 - val_accuracy: 0.7000\n",
            "Epoch 93/256\n",
            "11/11 [==============================] - 0s 6ms/step - loss: 0.7192 - accuracy: 0.6564 - val_loss: 0.7093 - val_accuracy: 0.7000\n",
            "Epoch 94/256\n",
            "11/11 [==============================] - 0s 6ms/step - loss: 0.7184 - accuracy: 0.6503 - val_loss: 0.7090 - val_accuracy: 0.7000\n",
            "Epoch 95/256\n",
            "11/11 [==============================] - 0s 6ms/step - loss: 0.7027 - accuracy: 0.6994 - val_loss: 0.7086 - val_accuracy: 0.7000\n",
            "Epoch 96/256\n",
            "11/11 [==============================] - 0s 7ms/step - loss: 0.7195 - accuracy: 0.6626 - val_loss: 0.7083 - val_accuracy: 0.7000\n",
            "Epoch 97/256\n",
            "11/11 [==============================] - 0s 7ms/step - loss: 0.7126 - accuracy: 0.6761 - val_loss: 0.7080 - val_accuracy: 0.7000\n",
            "Epoch 98/256\n",
            "11/11 [==============================] - 0s 5ms/step - loss: 0.7141 - accuracy: 0.6626 - val_loss: 0.7077 - val_accuracy: 0.7000\n",
            "Epoch 99/256\n",
            "11/11 [==============================] - 0s 5ms/step - loss: 0.7059 - accuracy: 0.6871 - val_loss: 0.7074 - val_accuracy: 0.7000\n",
            "Epoch 100/256\n",
            "11/11 [==============================] - 0s 5ms/step - loss: 0.7165 - accuracy: 0.6687 - val_loss: 0.7071 - val_accuracy: 0.7000\n",
            "Epoch 101/256\n",
            "11/11 [==============================] - 0s 6ms/step - loss: 0.7243 - accuracy: 0.6626 - val_loss: 0.7068 - val_accuracy: 0.7000\n",
            "Epoch 102/256\n",
            "11/11 [==============================] - 0s 6ms/step - loss: 0.6972 - accuracy: 0.6810 - val_loss: 0.7065 - val_accuracy: 0.7000\n",
            "Epoch 103/256\n",
            "11/11 [==============================] - 0s 5ms/step - loss: 0.7121 - accuracy: 0.6871 - val_loss: 0.7062 - val_accuracy: 0.7000\n",
            "Epoch 104/256\n",
            "11/11 [==============================] - 0s 6ms/step - loss: 0.7092 - accuracy: 0.6810 - val_loss: 0.7058 - val_accuracy: 0.7000\n",
            "Epoch 105/256\n",
            "11/11 [==============================] - 0s 5ms/step - loss: 0.7200 - accuracy: 0.7117 - val_loss: 0.7055 - val_accuracy: 0.7000\n",
            "Epoch 106/256\n",
            "11/11 [==============================] - 0s 7ms/step - loss: 0.7082 - accuracy: 0.6687 - val_loss: 0.7052 - val_accuracy: 0.7000\n",
            "Epoch 107/256\n",
            "11/11 [==============================] - 0s 7ms/step - loss: 0.7187 - accuracy: 0.6687 - val_loss: 0.7048 - val_accuracy: 0.7000\n",
            "Epoch 108/256\n",
            "11/11 [==============================] - 0s 6ms/step - loss: 0.7028 - accuracy: 0.6810 - val_loss: 0.7045 - val_accuracy: 0.7000\n",
            "Epoch 109/256\n",
            "11/11 [==============================] - 0s 5ms/step - loss: 0.7086 - accuracy: 0.6818 - val_loss: 0.7042 - val_accuracy: 0.7000\n",
            "Epoch 110/256\n",
            "11/11 [==============================] - 0s 5ms/step - loss: 0.7090 - accuracy: 0.6748 - val_loss: 0.7039 - val_accuracy: 0.7000\n",
            "Epoch 111/256\n",
            "11/11 [==============================] - 0s 5ms/step - loss: 0.7110 - accuracy: 0.6933 - val_loss: 0.7036 - val_accuracy: 0.7000\n",
            "Epoch 112/256\n",
            "11/11 [==============================] - 0s 7ms/step - loss: 0.7148 - accuracy: 0.6748 - val_loss: 0.7033 - val_accuracy: 0.7000\n",
            "Epoch 113/256\n",
            "11/11 [==============================] - 0s 5ms/step - loss: 0.7071 - accuracy: 0.7239 - val_loss: 0.7029 - val_accuracy: 0.7000\n",
            "Epoch 114/256\n",
            "11/11 [==============================] - 0s 7ms/step - loss: 0.7211 - accuracy: 0.6626 - val_loss: 0.7027 - val_accuracy: 0.7000\n",
            "Epoch 115/256\n",
            "11/11 [==============================] - 0s 6ms/step - loss: 0.6818 - accuracy: 0.6994 - val_loss: 0.7024 - val_accuracy: 0.7000\n",
            "Epoch 116/256\n",
            "11/11 [==============================] - 0s 6ms/step - loss: 0.7130 - accuracy: 0.6994 - val_loss: 0.7021 - val_accuracy: 0.7000\n",
            "Epoch 117/256\n",
            "11/11 [==============================] - 0s 5ms/step - loss: 0.7128 - accuracy: 0.6626 - val_loss: 0.7019 - val_accuracy: 0.7000\n",
            "Epoch 118/256\n",
            "11/11 [==============================] - 0s 5ms/step - loss: 0.6963 - accuracy: 0.6748 - val_loss: 0.7015 - val_accuracy: 0.7000\n",
            "Epoch 119/256\n",
            "11/11 [==============================] - 0s 6ms/step - loss: 0.7142 - accuracy: 0.7117 - val_loss: 0.7012 - val_accuracy: 0.7000\n",
            "Epoch 120/256\n",
            "11/11 [==============================] - 0s 6ms/step - loss: 0.7055 - accuracy: 0.6748 - val_loss: 0.7010 - val_accuracy: 0.7000\n",
            "Epoch 121/256\n",
            "11/11 [==============================] - 0s 7ms/step - loss: 0.7067 - accuracy: 0.6875 - val_loss: 0.7007 - val_accuracy: 0.7000\n",
            "Epoch 122/256\n",
            "11/11 [==============================] - 0s 6ms/step - loss: 0.6993 - accuracy: 0.6871 - val_loss: 0.7004 - val_accuracy: 0.7000\n",
            "Epoch 123/256\n",
            "11/11 [==============================] - 0s 6ms/step - loss: 0.7097 - accuracy: 0.6994 - val_loss: 0.7001 - val_accuracy: 0.7000\n",
            "Epoch 124/256\n",
            "11/11 [==============================] - 0s 6ms/step - loss: 0.7125 - accuracy: 0.6933 - val_loss: 0.6997 - val_accuracy: 0.7000\n",
            "Epoch 125/256\n",
            "11/11 [==============================] - 0s 5ms/step - loss: 0.7043 - accuracy: 0.6687 - val_loss: 0.6995 - val_accuracy: 0.7000\n",
            "Epoch 126/256\n",
            "11/11 [==============================] - 0s 5ms/step - loss: 0.7025 - accuracy: 0.6626 - val_loss: 0.6993 - val_accuracy: 0.7000\n",
            "Epoch 127/256\n",
            "11/11 [==============================] - 0s 6ms/step - loss: 0.6993 - accuracy: 0.7362 - val_loss: 0.6989 - val_accuracy: 0.7000\n",
            "Epoch 128/256\n",
            "11/11 [==============================] - 0s 6ms/step - loss: 0.7210 - accuracy: 0.6626 - val_loss: 0.6986 - val_accuracy: 0.7000\n",
            "Epoch 129/256\n",
            "11/11 [==============================] - 0s 6ms/step - loss: 0.6943 - accuracy: 0.6871 - val_loss: 0.6983 - val_accuracy: 0.7000\n",
            "Epoch 130/256\n",
            "11/11 [==============================] - 0s 5ms/step - loss: 0.6880 - accuracy: 0.7055 - val_loss: 0.6980 - val_accuracy: 0.7000\n",
            "Epoch 131/256\n",
            "11/11 [==============================] - 0s 5ms/step - loss: 0.7104 - accuracy: 0.6564 - val_loss: 0.6977 - val_accuracy: 0.7000\n",
            "Epoch 132/256\n",
            "11/11 [==============================] - 0s 6ms/step - loss: 0.7029 - accuracy: 0.6994 - val_loss: 0.6974 - val_accuracy: 0.7000\n",
            "Epoch 133/256\n",
            "11/11 [==============================] - 0s 7ms/step - loss: 0.7050 - accuracy: 0.6875 - val_loss: 0.6972 - val_accuracy: 0.7000\n",
            "Epoch 134/256\n",
            "11/11 [==============================] - 0s 6ms/step - loss: 0.6931 - accuracy: 0.6933 - val_loss: 0.6969 - val_accuracy: 0.7000\n",
            "Epoch 135/256\n",
            "11/11 [==============================] - 0s 6ms/step - loss: 0.7050 - accuracy: 0.6626 - val_loss: 0.6966 - val_accuracy: 0.7000\n",
            "Epoch 136/256\n",
            "11/11 [==============================] - 0s 7ms/step - loss: 0.7064 - accuracy: 0.6994 - val_loss: 0.6963 - val_accuracy: 0.7000\n",
            "Epoch 137/256\n",
            "11/11 [==============================] - 0s 6ms/step - loss: 0.6955 - accuracy: 0.7178 - val_loss: 0.6960 - val_accuracy: 0.7000\n",
            "Epoch 138/256\n",
            "11/11 [==============================] - 0s 5ms/step - loss: 0.7040 - accuracy: 0.6503 - val_loss: 0.6958 - val_accuracy: 0.7000\n",
            "Epoch 139/256\n",
            "11/11 [==============================] - 0s 7ms/step - loss: 0.7027 - accuracy: 0.6748 - val_loss: 0.6955 - val_accuracy: 0.7000\n",
            "Epoch 140/256\n",
            "11/11 [==============================] - 0s 7ms/step - loss: 0.6973 - accuracy: 0.7117 - val_loss: 0.6952 - val_accuracy: 0.7000\n",
            "Epoch 141/256\n",
            "11/11 [==============================] - 0s 7ms/step - loss: 0.6960 - accuracy: 0.7055 - val_loss: 0.6949 - val_accuracy: 0.7000\n",
            "Epoch 142/256\n",
            "11/11 [==============================] - 0s 5ms/step - loss: 0.7123 - accuracy: 0.6687 - val_loss: 0.6946 - val_accuracy: 0.7000\n",
            "Epoch 143/256\n",
            "11/11 [==============================] - 0s 6ms/step - loss: 0.6881 - accuracy: 0.6687 - val_loss: 0.6943 - val_accuracy: 0.7000\n",
            "Epoch 144/256\n",
            "11/11 [==============================] - 0s 6ms/step - loss: 0.7022 - accuracy: 0.7055 - val_loss: 0.6940 - val_accuracy: 0.7000\n",
            "Epoch 145/256\n",
            "11/11 [==============================] - 0s 6ms/step - loss: 0.6963 - accuracy: 0.6875 - val_loss: 0.6938 - val_accuracy: 0.7000\n",
            "Epoch 146/256\n",
            "11/11 [==============================] - 0s 6ms/step - loss: 0.7001 - accuracy: 0.6810 - val_loss: 0.6935 - val_accuracy: 0.7000\n",
            "Epoch 147/256\n",
            "11/11 [==============================] - 0s 6ms/step - loss: 0.7016 - accuracy: 0.6871 - val_loss: 0.6932 - val_accuracy: 0.7000\n",
            "Epoch 148/256\n",
            "11/11 [==============================] - 0s 7ms/step - loss: 0.6836 - accuracy: 0.7055 - val_loss: 0.6929 - val_accuracy: 0.7000\n",
            "Epoch 149/256\n",
            "11/11 [==============================] - 0s 6ms/step - loss: 0.7062 - accuracy: 0.6442 - val_loss: 0.6927 - val_accuracy: 0.7167\n",
            "Epoch 150/256\n",
            "11/11 [==============================] - 0s 6ms/step - loss: 0.7003 - accuracy: 0.7055 - val_loss: 0.6924 - val_accuracy: 0.7167\n",
            "Epoch 151/256\n",
            "11/11 [==============================] - 0s 6ms/step - loss: 0.6922 - accuracy: 0.6503 - val_loss: 0.6922 - val_accuracy: 0.7167\n",
            "Epoch 152/256\n",
            "11/11 [==============================] - 0s 5ms/step - loss: 0.6987 - accuracy: 0.7178 - val_loss: 0.6919 - val_accuracy: 0.7167\n",
            "Epoch 153/256\n",
            "11/11 [==============================] - 0s 6ms/step - loss: 0.7030 - accuracy: 0.6994 - val_loss: 0.6915 - val_accuracy: 0.7167\n",
            "Epoch 154/256\n",
            "11/11 [==============================] - 0s 5ms/step - loss: 0.6984 - accuracy: 0.6933 - val_loss: 0.6913 - val_accuracy: 0.7167\n",
            "Epoch 155/256\n",
            "11/11 [==============================] - 0s 6ms/step - loss: 0.6877 - accuracy: 0.6933 - val_loss: 0.6910 - val_accuracy: 0.7167\n",
            "Epoch 156/256\n",
            "11/11 [==============================] - 0s 5ms/step - loss: 0.6970 - accuracy: 0.6810 - val_loss: 0.6908 - val_accuracy: 0.7167\n",
            "Epoch 157/256\n",
            "11/11 [==============================] - 0s 6ms/step - loss: 0.6931 - accuracy: 0.6875 - val_loss: 0.6905 - val_accuracy: 0.7167\n",
            "Epoch 158/256\n",
            "11/11 [==============================] - 0s 5ms/step - loss: 0.6943 - accuracy: 0.6871 - val_loss: 0.6902 - val_accuracy: 0.7167\n",
            "Epoch 159/256\n",
            "11/11 [==============================] - 0s 5ms/step - loss: 0.6955 - accuracy: 0.6810 - val_loss: 0.6900 - val_accuracy: 0.7167\n",
            "Epoch 160/256\n",
            "11/11 [==============================] - 0s 6ms/step - loss: 0.7006 - accuracy: 0.6503 - val_loss: 0.6898 - val_accuracy: 0.7167\n",
            "Epoch 161/256\n",
            "11/11 [==============================] - 0s 6ms/step - loss: 0.6905 - accuracy: 0.7055 - val_loss: 0.6895 - val_accuracy: 0.7167\n",
            "Epoch 162/256\n",
            "11/11 [==============================] - 0s 6ms/step - loss: 0.6944 - accuracy: 0.7301 - val_loss: 0.6892 - val_accuracy: 0.7167\n",
            "Epoch 163/256\n",
            "11/11 [==============================] - 0s 5ms/step - loss: 0.6941 - accuracy: 0.6626 - val_loss: 0.6890 - val_accuracy: 0.7167\n",
            "Epoch 164/256\n",
            "11/11 [==============================] - 0s 5ms/step - loss: 0.6811 - accuracy: 0.7117 - val_loss: 0.6887 - val_accuracy: 0.7167\n",
            "Epoch 165/256\n",
            "11/11 [==============================] - 0s 5ms/step - loss: 0.7008 - accuracy: 0.6933 - val_loss: 0.6884 - val_accuracy: 0.7167\n",
            "Epoch 166/256\n",
            "11/11 [==============================] - 0s 5ms/step - loss: 0.6938 - accuracy: 0.6748 - val_loss: 0.6881 - val_accuracy: 0.7167\n",
            "Epoch 167/256\n",
            "11/11 [==============================] - 0s 8ms/step - loss: 0.6938 - accuracy: 0.6626 - val_loss: 0.6879 - val_accuracy: 0.7167\n",
            "Epoch 168/256\n",
            "11/11 [==============================] - 0s 5ms/step - loss: 0.6930 - accuracy: 0.6994 - val_loss: 0.6876 - val_accuracy: 0.7167\n",
            "Epoch 169/256\n",
            "11/11 [==============================] - 0s 7ms/step - loss: 0.6890 - accuracy: 0.6875 - val_loss: 0.6874 - val_accuracy: 0.7167\n",
            "Epoch 170/256\n",
            "11/11 [==============================] - 0s 6ms/step - loss: 0.6920 - accuracy: 0.7055 - val_loss: 0.6871 - val_accuracy: 0.7167\n",
            "Epoch 171/256\n",
            "11/11 [==============================] - 0s 5ms/step - loss: 0.7013 - accuracy: 0.6626 - val_loss: 0.6869 - val_accuracy: 0.7167\n",
            "Epoch 172/256\n",
            "11/11 [==============================] - 0s 5ms/step - loss: 0.6953 - accuracy: 0.6810 - val_loss: 0.6866 - val_accuracy: 0.7167\n",
            "Epoch 173/256\n",
            "11/11 [==============================] - 0s 5ms/step - loss: 0.6834 - accuracy: 0.6748 - val_loss: 0.6864 - val_accuracy: 0.7167\n",
            "Epoch 174/256\n",
            "11/11 [==============================] - 0s 6ms/step - loss: 0.6915 - accuracy: 0.7301 - val_loss: 0.6860 - val_accuracy: 0.7167\n",
            "Epoch 175/256\n",
            "11/11 [==============================] - 0s 6ms/step - loss: 0.6917 - accuracy: 0.6380 - val_loss: 0.6859 - val_accuracy: 0.7167\n",
            "Epoch 176/256\n",
            "11/11 [==============================] - 0s 6ms/step - loss: 0.6756 - accuracy: 0.7239 - val_loss: 0.6855 - val_accuracy: 0.7167\n",
            "Epoch 177/256\n",
            "11/11 [==============================] - 0s 6ms/step - loss: 0.6990 - accuracy: 0.6564 - val_loss: 0.6853 - val_accuracy: 0.7167\n",
            "Epoch 178/256\n",
            "11/11 [==============================] - 0s 5ms/step - loss: 0.6959 - accuracy: 0.7055 - val_loss: 0.6850 - val_accuracy: 0.7167\n",
            "Epoch 179/256\n",
            "11/11 [==============================] - 0s 6ms/step - loss: 0.6850 - accuracy: 0.6994 - val_loss: 0.6848 - val_accuracy: 0.7167\n",
            "Epoch 180/256\n",
            "11/11 [==============================] - 0s 6ms/step - loss: 0.6856 - accuracy: 0.6810 - val_loss: 0.6845 - val_accuracy: 0.7167\n",
            "Epoch 181/256\n",
            "11/11 [==============================] - 0s 7ms/step - loss: 0.6904 - accuracy: 0.6875 - val_loss: 0.6843 - val_accuracy: 0.7167\n",
            "Epoch 182/256\n",
            "11/11 [==============================] - 0s 5ms/step - loss: 0.6827 - accuracy: 0.6871 - val_loss: 0.6840 - val_accuracy: 0.7167\n",
            "Epoch 183/256\n",
            "11/11 [==============================] - 0s 7ms/step - loss: 0.6970 - accuracy: 0.6810 - val_loss: 0.6837 - val_accuracy: 0.7167\n",
            "Epoch 184/256\n",
            "11/11 [==============================] - 0s 6ms/step - loss: 0.6748 - accuracy: 0.7117 - val_loss: 0.6835 - val_accuracy: 0.7167\n",
            "Epoch 185/256\n",
            "11/11 [==============================] - 0s 6ms/step - loss: 0.6912 - accuracy: 0.6442 - val_loss: 0.6833 - val_accuracy: 0.7167\n",
            "Epoch 186/256\n",
            "11/11 [==============================] - 0s 6ms/step - loss: 0.6944 - accuracy: 0.7055 - val_loss: 0.6830 - val_accuracy: 0.7167\n",
            "Epoch 187/256\n",
            "11/11 [==============================] - 0s 6ms/step - loss: 0.6726 - accuracy: 0.7055 - val_loss: 0.6827 - val_accuracy: 0.7167\n",
            "Epoch 188/256\n",
            "11/11 [==============================] - 0s 6ms/step - loss: 0.6914 - accuracy: 0.7117 - val_loss: 0.6825 - val_accuracy: 0.7167\n",
            "Epoch 189/256\n",
            "11/11 [==============================] - 0s 6ms/step - loss: 0.6948 - accuracy: 0.6258 - val_loss: 0.6823 - val_accuracy: 0.7167\n",
            "Epoch 190/256\n",
            "11/11 [==============================] - 0s 6ms/step - loss: 0.6895 - accuracy: 0.7117 - val_loss: 0.6820 - val_accuracy: 0.7167\n",
            "Epoch 191/256\n",
            "11/11 [==============================] - 0s 6ms/step - loss: 0.6855 - accuracy: 0.6933 - val_loss: 0.6817 - val_accuracy: 0.7167\n",
            "Epoch 192/256\n",
            "11/11 [==============================] - 0s 6ms/step - loss: 0.6819 - accuracy: 0.6810 - val_loss: 0.6815 - val_accuracy: 0.7167\n",
            "Epoch 193/256\n",
            "11/11 [==============================] - 0s 7ms/step - loss: 0.6851 - accuracy: 0.6932 - val_loss: 0.6812 - val_accuracy: 0.7167\n",
            "Epoch 194/256\n",
            "11/11 [==============================] - 0s 7ms/step - loss: 0.6867 - accuracy: 0.6994 - val_loss: 0.6810 - val_accuracy: 0.7167\n",
            "Epoch 195/256\n",
            "11/11 [==============================] - 0s 6ms/step - loss: 0.6898 - accuracy: 0.6933 - val_loss: 0.6808 - val_accuracy: 0.7167\n",
            "Epoch 196/256\n",
            "11/11 [==============================] - 0s 7ms/step - loss: 0.6852 - accuracy: 0.6564 - val_loss: 0.6806 - val_accuracy: 0.7167\n",
            "Epoch 197/256\n",
            "11/11 [==============================] - 0s 6ms/step - loss: 0.6687 - accuracy: 0.7178 - val_loss: 0.6804 - val_accuracy: 0.7167\n",
            "Epoch 198/256\n",
            "11/11 [==============================] - 0s 6ms/step - loss: 0.6883 - accuracy: 0.6626 - val_loss: 0.6802 - val_accuracy: 0.7167\n",
            "Epoch 199/256\n",
            "11/11 [==============================] - 0s 7ms/step - loss: 0.6795 - accuracy: 0.7178 - val_loss: 0.6799 - val_accuracy: 0.7167\n",
            "Epoch 200/256\n",
            "11/11 [==============================] - 0s 7ms/step - loss: 0.6987 - accuracy: 0.6687 - val_loss: 0.6797 - val_accuracy: 0.7167\n",
            "Epoch 201/256\n",
            "11/11 [==============================] - 0s 6ms/step - loss: 0.6881 - accuracy: 0.6564 - val_loss: 0.6795 - val_accuracy: 0.7167\n",
            "Epoch 202/256\n",
            "11/11 [==============================] - 0s 6ms/step - loss: 0.6809 - accuracy: 0.6994 - val_loss: 0.6792 - val_accuracy: 0.7167\n",
            "Epoch 203/256\n",
            "11/11 [==============================] - 0s 5ms/step - loss: 0.6791 - accuracy: 0.6810 - val_loss: 0.6790 - val_accuracy: 0.7167\n",
            "Epoch 204/256\n",
            "11/11 [==============================] - 0s 6ms/step - loss: 0.6797 - accuracy: 0.6994 - val_loss: 0.6788 - val_accuracy: 0.7167\n",
            "Epoch 205/256\n",
            "11/11 [==============================] - 0s 7ms/step - loss: 0.6816 - accuracy: 0.6875 - val_loss: 0.6786 - val_accuracy: 0.7167\n",
            "Epoch 206/256\n",
            "11/11 [==============================] - 0s 6ms/step - loss: 0.6782 - accuracy: 0.6871 - val_loss: 0.6783 - val_accuracy: 0.7167\n",
            "Epoch 207/256\n",
            "11/11 [==============================] - 0s 7ms/step - loss: 0.6916 - accuracy: 0.6810 - val_loss: 0.6781 - val_accuracy: 0.7167\n",
            "Epoch 208/256\n",
            "11/11 [==============================] - 0s 6ms/step - loss: 0.6797 - accuracy: 0.6748 - val_loss: 0.6779 - val_accuracy: 0.7167\n",
            "Epoch 209/256\n",
            "11/11 [==============================] - 0s 7ms/step - loss: 0.6807 - accuracy: 0.7239 - val_loss: 0.6776 - val_accuracy: 0.7167\n",
            "Epoch 210/256\n",
            "11/11 [==============================] - 0s 7ms/step - loss: 0.6801 - accuracy: 0.6810 - val_loss: 0.6773 - val_accuracy: 0.7167\n",
            "Epoch 211/256\n",
            "11/11 [==============================] - 0s 5ms/step - loss: 0.6774 - accuracy: 0.6626 - val_loss: 0.6771 - val_accuracy: 0.7167\n",
            "Epoch 212/256\n",
            "11/11 [==============================] - 0s 7ms/step - loss: 0.6897 - accuracy: 0.6626 - val_loss: 0.6769 - val_accuracy: 0.7167\n",
            "Epoch 213/256\n",
            "11/11 [==============================] - 0s 5ms/step - loss: 0.6753 - accuracy: 0.7362 - val_loss: 0.6766 - val_accuracy: 0.7167\n",
            "Epoch 214/256\n",
            "11/11 [==============================] - 0s 7ms/step - loss: 0.6889 - accuracy: 0.6564 - val_loss: 0.6764 - val_accuracy: 0.7167\n",
            "Epoch 215/256\n",
            "11/11 [==============================] - 0s 6ms/step - loss: 0.6710 - accuracy: 0.7055 - val_loss: 0.6761 - val_accuracy: 0.7167\n",
            "Epoch 216/256\n",
            "11/11 [==============================] - 0s 5ms/step - loss: 0.6795 - accuracy: 0.6871 - val_loss: 0.6759 - val_accuracy: 0.7167\n",
            "Epoch 217/256\n",
            "11/11 [==============================] - 0s 7ms/step - loss: 0.6767 - accuracy: 0.6932 - val_loss: 0.6757 - val_accuracy: 0.7167\n",
            "Epoch 218/256\n",
            "11/11 [==============================] - 0s 6ms/step - loss: 0.6763 - accuracy: 0.7178 - val_loss: 0.6754 - val_accuracy: 0.7167\n",
            "Epoch 219/256\n",
            "11/11 [==============================] - 0s 6ms/step - loss: 0.6835 - accuracy: 0.6503 - val_loss: 0.6753 - val_accuracy: 0.7167\n",
            "Epoch 220/256\n",
            "11/11 [==============================] - 0s 5ms/step - loss: 0.6789 - accuracy: 0.6994 - val_loss: 0.6750 - val_accuracy: 0.7167\n",
            "Epoch 221/256\n",
            "11/11 [==============================] - 0s 5ms/step - loss: 0.6806 - accuracy: 0.6687 - val_loss: 0.6748 - val_accuracy: 0.7167\n",
            "Epoch 222/256\n",
            "11/11 [==============================] - 0s 6ms/step - loss: 0.6768 - accuracy: 0.6871 - val_loss: 0.6746 - val_accuracy: 0.7167\n",
            "Epoch 223/256\n",
            "11/11 [==============================] - 0s 5ms/step - loss: 0.6836 - accuracy: 0.6687 - val_loss: 0.6744 - val_accuracy: 0.7167\n",
            "Epoch 224/256\n",
            "11/11 [==============================] - 0s 5ms/step - loss: 0.6826 - accuracy: 0.6871 - val_loss: 0.6742 - val_accuracy: 0.7167\n",
            "Epoch 225/256\n",
            "11/11 [==============================] - 0s 6ms/step - loss: 0.6772 - accuracy: 0.7055 - val_loss: 0.6740 - val_accuracy: 0.7167\n",
            "Epoch 226/256\n",
            "11/11 [==============================] - 0s 6ms/step - loss: 0.6599 - accuracy: 0.6933 - val_loss: 0.6738 - val_accuracy: 0.7167\n",
            "Epoch 227/256\n",
            "11/11 [==============================] - 0s 7ms/step - loss: 0.6881 - accuracy: 0.6933 - val_loss: 0.6736 - val_accuracy: 0.7167\n",
            "Epoch 228/256\n",
            "11/11 [==============================] - 0s 5ms/step - loss: 0.6746 - accuracy: 0.6810 - val_loss: 0.6733 - val_accuracy: 0.7167\n",
            "Epoch 229/256\n",
            "11/11 [==============================] - 0s 5ms/step - loss: 0.6752 - accuracy: 0.6932 - val_loss: 0.6731 - val_accuracy: 0.7167\n",
            "Epoch 230/256\n",
            "11/11 [==============================] - 0s 5ms/step - loss: 0.6786 - accuracy: 0.6687 - val_loss: 0.6729 - val_accuracy: 0.7167\n",
            "Epoch 231/256\n",
            "11/11 [==============================] - 0s 6ms/step - loss: 0.6748 - accuracy: 0.6994 - val_loss: 0.6727 - val_accuracy: 0.7167\n",
            "Epoch 232/256\n",
            "11/11 [==============================] - 0s 6ms/step - loss: 0.6755 - accuracy: 0.6748 - val_loss: 0.6724 - val_accuracy: 0.7167\n",
            "Epoch 233/256\n",
            "11/11 [==============================] - 0s 6ms/step - loss: 0.6896 - accuracy: 0.6626 - val_loss: 0.6722 - val_accuracy: 0.7167\n",
            "Epoch 234/256\n",
            "11/11 [==============================] - 0s 5ms/step - loss: 0.6681 - accuracy: 0.7239 - val_loss: 0.6720 - val_accuracy: 0.7167\n",
            "Epoch 235/256\n",
            "11/11 [==============================] - 0s 6ms/step - loss: 0.6701 - accuracy: 0.6871 - val_loss: 0.6718 - val_accuracy: 0.7167\n",
            "Epoch 236/256\n",
            "11/11 [==============================] - 0s 6ms/step - loss: 0.6706 - accuracy: 0.6626 - val_loss: 0.6716 - val_accuracy: 0.7167\n",
            "Epoch 237/256\n",
            "11/11 [==============================] - 0s 6ms/step - loss: 0.6854 - accuracy: 0.6994 - val_loss: 0.6713 - val_accuracy: 0.7167\n",
            "Epoch 238/256\n",
            "11/11 [==============================] - 0s 5ms/step - loss: 0.6633 - accuracy: 0.7117 - val_loss: 0.6711 - val_accuracy: 0.7167\n",
            "Epoch 239/256\n",
            "11/11 [==============================] - 0s 6ms/step - loss: 0.6801 - accuracy: 0.6748 - val_loss: 0.6709 - val_accuracy: 0.7167\n",
            "Epoch 240/256\n",
            "11/11 [==============================] - 0s 5ms/step - loss: 0.6730 - accuracy: 0.6871 - val_loss: 0.6706 - val_accuracy: 0.7167\n",
            "Epoch 241/256\n",
            "11/11 [==============================] - 0s 5ms/step - loss: 0.6736 - accuracy: 0.6875 - val_loss: 0.6704 - val_accuracy: 0.7167\n",
            "Epoch 242/256\n",
            "11/11 [==============================] - 0s 6ms/step - loss: 0.6780 - accuracy: 0.6933 - val_loss: 0.6702 - val_accuracy: 0.7167\n",
            "Epoch 243/256\n",
            "11/11 [==============================] - 0s 7ms/step - loss: 0.6677 - accuracy: 0.6810 - val_loss: 0.6700 - val_accuracy: 0.7167\n",
            "Epoch 244/256\n",
            "11/11 [==============================] - 0s 5ms/step - loss: 0.6727 - accuracy: 0.6748 - val_loss: 0.6698 - val_accuracy: 0.7167\n",
            "Epoch 245/256\n",
            "11/11 [==============================] - 0s 6ms/step - loss: 0.6708 - accuracy: 0.7362 - val_loss: 0.6695 - val_accuracy: 0.7167\n",
            "Epoch 246/256\n",
            "11/11 [==============================] - 0s 8ms/step - loss: 0.6652 - accuracy: 0.6810 - val_loss: 0.6693 - val_accuracy: 0.7167\n",
            "Epoch 247/256\n",
            "11/11 [==============================] - 0s 7ms/step - loss: 0.6776 - accuracy: 0.6748 - val_loss: 0.6691 - val_accuracy: 0.7167\n",
            "Epoch 248/256\n",
            "11/11 [==============================] - 0s 6ms/step - loss: 0.6741 - accuracy: 0.6871 - val_loss: 0.6689 - val_accuracy: 0.7167\n",
            "Epoch 249/256\n",
            "11/11 [==============================] - 0s 6ms/step - loss: 0.6761 - accuracy: 0.6687 - val_loss: 0.6687 - val_accuracy: 0.7167\n",
            "Epoch 250/256\n",
            "11/11 [==============================] - 0s 6ms/step - loss: 0.6628 - accuracy: 0.6994 - val_loss: 0.6685 - val_accuracy: 0.7167\n",
            "Epoch 251/256\n",
            "11/11 [==============================] - 0s 6ms/step - loss: 0.6796 - accuracy: 0.6871 - val_loss: 0.6683 - val_accuracy: 0.7167\n",
            "Epoch 252/256\n",
            "11/11 [==============================] - 0s 6ms/step - loss: 0.6721 - accuracy: 0.6748 - val_loss: 0.6681 - val_accuracy: 0.7167\n",
            "Epoch 253/256\n",
            "11/11 [==============================] - 0s 6ms/step - loss: 0.6659 - accuracy: 0.6875 - val_loss: 0.6679 - val_accuracy: 0.7167\n",
            "Epoch 254/256\n",
            "11/11 [==============================] - 0s 6ms/step - loss: 0.6749 - accuracy: 0.6748 - val_loss: 0.6677 - val_accuracy: 0.7167\n",
            "Epoch 255/256\n",
            "11/11 [==============================] - 0s 8ms/step - loss: 0.6643 - accuracy: 0.7301 - val_loss: 0.6674 - val_accuracy: 0.7167\n",
            "Epoch 256/256\n",
            "11/11 [==============================] - 0s 7ms/step - loss: 0.6869 - accuracy: 0.6258 - val_loss: 0.6673 - val_accuracy: 0.7167\n"
          ],
          "name": "stdout"
        }
      ]
    },
    {
      "cell_type": "code",
      "metadata": {
        "colab": {
          "base_uri": "https://localhost:8080/",
          "height": 220
        },
        "id": "633Pu6YEmuHI",
        "outputId": "e2a860e2-17e6-492c-80ef-2f8c7c21b1c1"
      },
      "source": [
        "print('Summary of results of each Epoch : ')\n",
        "hist = pd.DataFrame(history.history)\n",
        "hist['epoch']=history.epoch\n",
        "hist.tail()"
      ],
      "execution_count": 30,
      "outputs": [
        {
          "output_type": "stream",
          "text": [
            "Summary of results of each Epoch : \n"
          ],
          "name": "stdout"
        },
        {
          "output_type": "execute_result",
          "data": {
            "text/html": [
              "<div>\n",
              "<style scoped>\n",
              "    .dataframe tbody tr th:only-of-type {\n",
              "        vertical-align: middle;\n",
              "    }\n",
              "\n",
              "    .dataframe tbody tr th {\n",
              "        vertical-align: top;\n",
              "    }\n",
              "\n",
              "    .dataframe thead th {\n",
              "        text-align: right;\n",
              "    }\n",
              "</style>\n",
              "<table border=\"1\" class=\"dataframe\">\n",
              "  <thead>\n",
              "    <tr style=\"text-align: right;\">\n",
              "      <th></th>\n",
              "      <th>loss</th>\n",
              "      <th>accuracy</th>\n",
              "      <th>val_loss</th>\n",
              "      <th>val_accuracy</th>\n",
              "      <th>epoch</th>\n",
              "    </tr>\n",
              "  </thead>\n",
              "  <tbody>\n",
              "    <tr>\n",
              "      <th>251</th>\n",
              "      <td>0.672127</td>\n",
              "      <td>0.674847</td>\n",
              "      <td>0.668143</td>\n",
              "      <td>0.716667</td>\n",
              "      <td>251</td>\n",
              "    </tr>\n",
              "    <tr>\n",
              "      <th>252</th>\n",
              "      <td>0.665908</td>\n",
              "      <td>0.687500</td>\n",
              "      <td>0.667929</td>\n",
              "      <td>0.716667</td>\n",
              "      <td>252</td>\n",
              "    </tr>\n",
              "    <tr>\n",
              "      <th>253</th>\n",
              "      <td>0.674870</td>\n",
              "      <td>0.674847</td>\n",
              "      <td>0.667728</td>\n",
              "      <td>0.716667</td>\n",
              "      <td>253</td>\n",
              "    </tr>\n",
              "    <tr>\n",
              "      <th>254</th>\n",
              "      <td>0.664252</td>\n",
              "      <td>0.730061</td>\n",
              "      <td>0.667438</td>\n",
              "      <td>0.716667</td>\n",
              "      <td>254</td>\n",
              "    </tr>\n",
              "    <tr>\n",
              "      <th>255</th>\n",
              "      <td>0.686901</td>\n",
              "      <td>0.625767</td>\n",
              "      <td>0.667289</td>\n",
              "      <td>0.716667</td>\n",
              "      <td>255</td>\n",
              "    </tr>\n",
              "  </tbody>\n",
              "</table>\n",
              "</div>"
            ],
            "text/plain": [
              "         loss  accuracy  val_loss  val_accuracy  epoch\n",
              "251  0.672127  0.674847  0.668143      0.716667    251\n",
              "252  0.665908  0.687500  0.667929      0.716667    252\n",
              "253  0.674870  0.674847  0.667728      0.716667    253\n",
              "254  0.664252  0.730061  0.667438      0.716667    254\n",
              "255  0.686901  0.625767  0.667289      0.716667    255"
            ]
          },
          "metadata": {
            "tags": []
          },
          "execution_count": 30
        }
      ]
    },
    {
      "cell_type": "markdown",
      "metadata": {
        "id": "zcSUl2oWorFE"
      },
      "source": [
        "# **Loss/Accuracy Plots :**"
      ]
    },
    {
      "cell_type": "code",
      "metadata": {
        "colab": {
          "base_uri": "https://localhost:8080/",
          "height": 295
        },
        "id": "uY0dKE0yoKvQ",
        "outputId": "0071c65c-f3f8-41cb-9934-c000608ded85"
      },
      "source": [
        "from matplotlib import pyplot as plt\n",
        "plt.plot(history.history['accuracy'])\n",
        "plt.plot(history.history['val_accuracy'])\n",
        "plt.title('model accuracy')\n",
        "plt.ylabel('Accuracy')\n",
        "plt.xlabel('EPOCH')\n",
        "plt.legend(['Train','Cross_Validation'], loc = 'upper left')\n",
        "plt.show()"
      ],
      "execution_count": 31,
      "outputs": [
        {
          "output_type": "display_data",
          "data": {
            "image/png": "[encoded data removed]",
            "text/plain": [
              "<Figure size 432x288 with 1 Axes>"
            ]
          },
          "metadata": {
            "tags": [],
            "needs_background": "light"
          }
        }
      ]
    },
    {
      "cell_type": "code",
      "metadata": {
        "colab": {
          "base_uri": "https://localhost:8080/",
          "height": 295
        },
        "id": "miloqYVmpj-z",
        "outputId": "ba4acc7a-e1f5-4f6b-ab7a-76160ae1d0a8"
      },
      "source": [
        "plt.plot(history.history['loss'])\n",
        "plt.plot(history.history['val_loss'])\n",
        "plt.title('Model Loss')\n",
        "plt.ylabel('Loss')\n",
        "plt.xlabel('EPOCH')\n",
        "plt.legend(['Train','Cross-Validation'], loc='upper left')\n",
        "plt.show()"
      ],
      "execution_count": 32,
      "outputs": [
        {
          "output_type": "display_data",
          "data": {
            "image/png": "[encoded data removed]",
            "text/plain": [
              "<Figure size 432x288 with 1 Axes>"
            ]
          },
          "metadata": {
            "tags": [],
            "needs_background": "light"
          }
        }
      ]
    },
    {
      "cell_type": "code",
      "metadata": {
        "id": "kQjrp-6vqq9h"
      },
      "source": [
        "# Loss functions are dropping, which indicates that the model may perform better if we increase epochs.\n"
      ],
      "execution_count": 33,
      "outputs": []
    },
    {
      "cell_type": "code",
      "metadata": {
        "colab": {
          "base_uri": "https://localhost:8080/"
        },
        "id": "5dWjKsYWrB1u",
        "outputId": "8cda4e89-94ba-44a6-bc71-4d291a511ec7"
      },
      "source": [
        "print('Train Split : ')\n",
        "loss, accuracy = model.evaluate(normed_train_data, train_labels, verbose = 1)\n",
        "\n",
        "print('Accuracy :  {:5.2f}'.format(accuracy))"
      ],
      "execution_count": 34,
      "outputs": [
        {
          "output_type": "stream",
          "text": [
            "Train Split : \n",
            "6/6 [==============================] - 0s 3ms/step - loss: 0.6702 - accuracy: 0.6872\n",
            "Accuracy :   0.69\n"
          ],
          "name": "stdout"
        }
      ]
    },
    {
      "cell_type": "code",
      "metadata": {
        "colab": {
          "base_uri": "https://localhost:8080/"
        },
        "id": "gXB_KGv3rv2q",
        "outputId": "5d265081-793a-407a-b818-10a1d23bc8b0"
      },
      "source": [
        "print('Evaluation Split : ')\n",
        "loss, accuracy = model.evaluate(normed_valid_data, valid_labels, verbose = 2)\n",
        "\n",
        "print('Accuracy :  {:5.2f}'.format(accuracy))"
      ],
      "execution_count": 35,
      "outputs": [
        {
          "output_type": "stream",
          "text": [
            "Evaluation Split : \n",
            "2/2 - 0s - loss: 0.6673 - accuracy: 0.7167\n",
            "Accuracy :   0.72\n"
          ],
          "name": "stdout"
        }
      ]
    },
    {
      "cell_type": "code",
      "metadata": {
        "colab": {
          "base_uri": "https://localhost:8080/"
        },
        "id": "TEXjsTB_sVG-",
        "outputId": "7f43a8e7-347e-4fcd-d0c1-4d9266d49a3a"
      },
      "source": [
        "print('Test Split : ')\n",
        "loss, accuracy = model.evaluate(normed_test_data, test_labels, verbose = 2)\n",
        "\n",
        "print('Accuracy :  {:5.2f}'.format(accuracy))"
      ],
      "execution_count": 36,
      "outputs": [
        {
          "output_type": "stream",
          "text": [
            "Test Split : \n",
            "2/2 - 0s - loss: 0.6968 - accuracy: 0.6333\n",
            "Accuracy :   0.63\n"
          ],
          "name": "stdout"
        }
      ]
    },
    {
      "cell_type": "markdown",
      "metadata": {
        "id": "THN4XO3Tswdx"
      },
      "source": [
        "# **Confusion Matrix**"
      ]
    },
    {
      "cell_type": "code",
      "metadata": {
        "colab": {
          "base_uri": "https://localhost:8080/",
          "height": 295
        },
        "id": "Pxt6lkiwsq8l",
        "outputId": "d11a8315-5c64-4a83-9a6d-363fd51c973e"
      },
      "source": [
        "from sklearn.metrics import confusion_matrix\n",
        "\n",
        "ax=plt.subplot()\n",
        "predict_results = model.predict(normed_test_data)\n",
        "\n",
        "predict_results = (predict_results > 0.5)  #thershold for binary classification.\n",
        "\n",
        "cm = confusion_matrix(test_labels, predict_results)\n",
        "\n",
        "sns.heatmap(cm, annot=True, ax=ax) #annot is for annotating results.\n",
        "\n",
        "ax.set_xlabel('Predicted labels'); ax.set_ylabel('True Labels');\n",
        "ax.set_title('confusion Matrix');\n",
        "ax.xaxis.set_ticklabels(['Positive','Negative']);ax.yaxis.set_ticklabels(['Positive','Negative']);"
      ],
      "execution_count": 37,
      "outputs": [
        {
          "output_type": "display_data",
          "data": {
            "image/png": "[encoded data removed]",
            "text/plain": [
              "<Figure size 432x288 with 2 Axes>"
            ]
          },
          "metadata": {
            "tags": [],
            "needs_background": "light"
          }
        }
      ]
    },
    {
      "cell_type": "code",
      "metadata": {
        "id": "HDxlEGyLupqc"
      },
      "source": [
        ""
      ],
      "execution_count": null,
      "outputs": []
    }
  ]
}