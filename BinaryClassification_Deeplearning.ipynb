{
  "nbformat": 4,
  "nbformat_minor": 0,
  "metadata": {
    "colab": {
      "name": "BinaryClassification_Deeplearning.ipynb",
      "provenance": [],
      "collapsed_sections": [],
      "authorship_tag": "ABX9TyPgZFSzpJvYA5aqpRyPTHJ3",
      "include_colab_link": true
    },
    "kernelspec": {
      "name": "python3",
      "display_name": "Python 3"
    },
    "language_info": {
      "name": "python"
    },
    "accelerator": "GPU"
  },
  "cells": [
    {
      "cell_type": "markdown",
      "metadata": {
        "id": "view-in-github",
        "colab_type": "text"
      },
      "source": [
        "<a href=\"https://colab.research.google.com/github/Tejatrix/Tejatrix/blob/main/BinaryClassification_Deeplearning.ipynb\" target=\"_parent\"><img src=\"https://colab.research.google.com/assets/colab-badge.svg\" alt=\"Open In Colab\"/></a>"
      ]
    },
    {
      "cell_type": "code",
      "metadata": {
        "id": "B3QXzdk-OP9I"
      },
      "source": [
        "import tensorflow as tf\n",
        "from tensorflow import keras\n",
        "\n",
        "import sklearn\n",
        "from sklearn.model_selection import train_test_split"
      ],
      "execution_count": 1,
      "outputs": []
    },
    {
      "cell_type": "code",
      "metadata": {
        "id": "-q-sYXDKO2Na"
      },
      "source": [
        "from tensorflow.keras.models import Sequential\n",
        "from tensorflow.keras.layers import Activation, Dense, BatchNormalization, Dropout\n",
        "from tensorflow.keras import optimizers"
      ],
      "execution_count": 2,
      "outputs": []
    },
    {
      "cell_type": "code",
      "metadata": {
        "id": "vBmNuyZRPZmU"
      },
      "source": [
        "import matplotlib.pyplot as plt\n",
        "import numpy as np\n",
        "import pandas as pd\n",
        "import seaborn as sns"
      ],
      "execution_count": 3,
      "outputs": []
    },
    {
      "cell_type": "code",
      "metadata": {
        "id": "K-ROEqdhPn3Y"
      },
      "source": [
        "tf.random.set_seed(32)\n"
      ],
      "execution_count": 4,
      "outputs": []
    },
    {
      "cell_type": "code",
      "metadata": {
        "colab": {
          "base_uri": "https://localhost:8080/"
        },
        "id": "jJpIH2jqQJC4",
        "outputId": "70755cbc-04d1-4c5c-8a2e-671b4c28be16"
      },
      "source": [
        "from google.colab import drive\n",
        "drive.mount('/content/drive')\n"
      ],
      "execution_count": 5,
      "outputs": [
        {
          "output_type": "stream",
          "text": [
            "Mounted at /content/drive\n"
          ],
          "name": "stdout"
        }
      ]
    },
    {
      "cell_type": "code",
      "metadata": {
        "id": "aIkJTmdURH4M"
      },
      "source": [
        "all_ds = pd.read_excel('/content/drive/MyDrive/heart_failure_clinical_records_dataset.xlsx')"
      ],
      "execution_count": 6,
      "outputs": []
    },
    {
      "cell_type": "code",
      "metadata": {
        "colab": {
          "base_uri": "https://localhost:8080/",
          "height": 417
        },
        "id": "X4tx3bZWSBWz",
        "outputId": "754a7cb7-e349-4eb8-d39c-48ad758e715c"
      },
      "source": [
        " all_ds"
      ],
      "execution_count": 7,
      "outputs": [
        {
          "output_type": "execute_result",
          "data": {
            "text/html": [
              "<div>\n",
              "<style scoped>\n",
              "    .dataframe tbody tr th:only-of-type {\n",
              "        vertical-align: middle;\n",
              "    }\n",
              "\n",
              "    .dataframe tbody tr th {\n",
              "        vertical-align: top;\n",
              "    }\n",
              "\n",
              "    .dataframe thead th {\n",
              "        text-align: right;\n",
              "    }\n",
              "</style>\n",
              "<table border=\"1\" class=\"dataframe\">\n",
              "  <thead>\n",
              "    <tr style=\"text-align: right;\">\n",
              "      <th></th>\n",
              "      <th>age</th>\n",
              "      <th>anaemia</th>\n",
              "      <th>creatinine_phosphokinase</th>\n",
              "      <th>diabetes</th>\n",
              "      <th>ejection_fraction</th>\n",
              "      <th>high_blood_pressure</th>\n",
              "      <th>platelets</th>\n",
              "      <th>serum_creatinine</th>\n",
              "      <th>serum_sodium</th>\n",
              "      <th>sex</th>\n",
              "      <th>smoking</th>\n",
              "      <th>time</th>\n",
              "      <th>DEATH_EVENT</th>\n",
              "    </tr>\n",
              "  </thead>\n",
              "  <tbody>\n",
              "    <tr>\n",
              "      <th>0</th>\n",
              "      <td>75.0</td>\n",
              "      <td>0</td>\n",
              "      <td>582</td>\n",
              "      <td>0</td>\n",
              "      <td>20</td>\n",
              "      <td>1</td>\n",
              "      <td>265000.00</td>\n",
              "      <td>1.9</td>\n",
              "      <td>130</td>\n",
              "      <td>1</td>\n",
              "      <td>0</td>\n",
              "      <td>4</td>\n",
              "      <td>1</td>\n",
              "    </tr>\n",
              "    <tr>\n",
              "      <th>1</th>\n",
              "      <td>55.0</td>\n",
              "      <td>0</td>\n",
              "      <td>7861</td>\n",
              "      <td>0</td>\n",
              "      <td>38</td>\n",
              "      <td>0</td>\n",
              "      <td>263358.03</td>\n",
              "      <td>1.1</td>\n",
              "      <td>136</td>\n",
              "      <td>1</td>\n",
              "      <td>0</td>\n",
              "      <td>6</td>\n",
              "      <td>1</td>\n",
              "    </tr>\n",
              "    <tr>\n",
              "      <th>2</th>\n",
              "      <td>65.0</td>\n",
              "      <td>0</td>\n",
              "      <td>146</td>\n",
              "      <td>0</td>\n",
              "      <td>20</td>\n",
              "      <td>0</td>\n",
              "      <td>162000.00</td>\n",
              "      <td>1.3</td>\n",
              "      <td>129</td>\n",
              "      <td>1</td>\n",
              "      <td>1</td>\n",
              "      <td>7</td>\n",
              "      <td>1</td>\n",
              "    </tr>\n",
              "    <tr>\n",
              "      <th>3</th>\n",
              "      <td>50.0</td>\n",
              "      <td>1</td>\n",
              "      <td>111</td>\n",
              "      <td>0</td>\n",
              "      <td>20</td>\n",
              "      <td>0</td>\n",
              "      <td>210000.00</td>\n",
              "      <td>1.9</td>\n",
              "      <td>137</td>\n",
              "      <td>1</td>\n",
              "      <td>0</td>\n",
              "      <td>7</td>\n",
              "      <td>1</td>\n",
              "    </tr>\n",
              "    <tr>\n",
              "      <th>4</th>\n",
              "      <td>65.0</td>\n",
              "      <td>1</td>\n",
              "      <td>160</td>\n",
              "      <td>1</td>\n",
              "      <td>20</td>\n",
              "      <td>0</td>\n",
              "      <td>327000.00</td>\n",
              "      <td>2.7</td>\n",
              "      <td>116</td>\n",
              "      <td>0</td>\n",
              "      <td>0</td>\n",
              "      <td>8</td>\n",
              "      <td>1</td>\n",
              "    </tr>\n",
              "    <tr>\n",
              "      <th>...</th>\n",
              "      <td>...</td>\n",
              "      <td>...</td>\n",
              "      <td>...</td>\n",
              "      <td>...</td>\n",
              "      <td>...</td>\n",
              "      <td>...</td>\n",
              "      <td>...</td>\n",
              "      <td>...</td>\n",
              "      <td>...</td>\n",
              "      <td>...</td>\n",
              "      <td>...</td>\n",
              "      <td>...</td>\n",
              "      <td>...</td>\n",
              "    </tr>\n",
              "    <tr>\n",
              "      <th>294</th>\n",
              "      <td>62.0</td>\n",
              "      <td>0</td>\n",
              "      <td>61</td>\n",
              "      <td>1</td>\n",
              "      <td>38</td>\n",
              "      <td>1</td>\n",
              "      <td>155000.00</td>\n",
              "      <td>1.1</td>\n",
              "      <td>143</td>\n",
              "      <td>1</td>\n",
              "      <td>1</td>\n",
              "      <td>270</td>\n",
              "      <td>0</td>\n",
              "    </tr>\n",
              "    <tr>\n",
              "      <th>295</th>\n",
              "      <td>55.0</td>\n",
              "      <td>0</td>\n",
              "      <td>1820</td>\n",
              "      <td>0</td>\n",
              "      <td>38</td>\n",
              "      <td>0</td>\n",
              "      <td>270000.00</td>\n",
              "      <td>1.2</td>\n",
              "      <td>139</td>\n",
              "      <td>0</td>\n",
              "      <td>0</td>\n",
              "      <td>271</td>\n",
              "      <td>0</td>\n",
              "    </tr>\n",
              "    <tr>\n",
              "      <th>296</th>\n",
              "      <td>45.0</td>\n",
              "      <td>0</td>\n",
              "      <td>2060</td>\n",
              "      <td>1</td>\n",
              "      <td>60</td>\n",
              "      <td>0</td>\n",
              "      <td>742000.00</td>\n",
              "      <td>0.8</td>\n",
              "      <td>138</td>\n",
              "      <td>0</td>\n",
              "      <td>0</td>\n",
              "      <td>278</td>\n",
              "      <td>0</td>\n",
              "    </tr>\n",
              "    <tr>\n",
              "      <th>297</th>\n",
              "      <td>45.0</td>\n",
              "      <td>0</td>\n",
              "      <td>2413</td>\n",
              "      <td>0</td>\n",
              "      <td>38</td>\n",
              "      <td>0</td>\n",
              "      <td>140000.00</td>\n",
              "      <td>1.4</td>\n",
              "      <td>140</td>\n",
              "      <td>1</td>\n",
              "      <td>1</td>\n",
              "      <td>280</td>\n",
              "      <td>0</td>\n",
              "    </tr>\n",
              "    <tr>\n",
              "      <th>298</th>\n",
              "      <td>50.0</td>\n",
              "      <td>0</td>\n",
              "      <td>196</td>\n",
              "      <td>0</td>\n",
              "      <td>45</td>\n",
              "      <td>0</td>\n",
              "      <td>395000.00</td>\n",
              "      <td>1.6</td>\n",
              "      <td>136</td>\n",
              "      <td>1</td>\n",
              "      <td>1</td>\n",
              "      <td>285</td>\n",
              "      <td>0</td>\n",
              "    </tr>\n",
              "  </tbody>\n",
              "</table>\n",
              "<p>299 rows × 13 columns</p>\n",
              "</div>"
            ],
            "text/plain": [
              "      age  anaemia  creatinine_phosphokinase  ...  smoking  time  DEATH_EVENT\n",
              "0    75.0        0                       582  ...        0     4            1\n",
              "1    55.0        0                      7861  ...        0     6            1\n",
              "2    65.0        0                       146  ...        1     7            1\n",
              "3    50.0        1                       111  ...        0     7            1\n",
              "4    65.0        1                       160  ...        0     8            1\n",
              "..    ...      ...                       ...  ...      ...   ...          ...\n",
              "294  62.0        0                        61  ...        1   270            0\n",
              "295  55.0        0                      1820  ...        0   271            0\n",
              "296  45.0        0                      2060  ...        0   278            0\n",
              "297  45.0        0                      2413  ...        1   280            0\n",
              "298  50.0        0                       196  ...        1   285            0\n",
              "\n",
              "[299 rows x 13 columns]"
            ]
          },
          "metadata": {
            "tags": []
          },
          "execution_count": 7
        }
      ]
    },
    {
      "cell_type": "code",
      "metadata": {
        "colab": {
          "base_uri": "https://localhost:8080/"
        },
        "id": "nuZMDHlcSSRU",
        "outputId": "13c8d937-dcf3-4423-b9c0-b6507098fcb9"
      },
      "source": [
        "all_ds.info()"
      ],
      "execution_count": 8,
      "outputs": [
        {
          "output_type": "stream",
          "text": [
            "<class 'pandas.core.frame.DataFrame'>\n",
            "RangeIndex: 299 entries, 0 to 298\n",
            "Data columns (total 13 columns):\n",
            " #   Column                    Non-Null Count  Dtype  \n",
            "---  ------                    --------------  -----  \n",
            " 0   age                       299 non-null    float64\n",
            " 1   anaemia                   299 non-null    int64  \n",
            " 2   creatinine_phosphokinase  299 non-null    int64  \n",
            " 3   diabetes                  299 non-null    int64  \n",
            " 4   ejection_fraction         299 non-null    int64  \n",
            " 5   high_blood_pressure       299 non-null    int64  \n",
            " 6   platelets                 299 non-null    float64\n",
            " 7   serum_creatinine          299 non-null    float64\n",
            " 8   serum_sodium              299 non-null    int64  \n",
            " 9   sex                       299 non-null    int64  \n",
            " 10  smoking                   299 non-null    int64  \n",
            " 11  time                      299 non-null    int64  \n",
            " 12  DEATH_EVENT               299 non-null    int64  \n",
            "dtypes: float64(3), int64(10)\n",
            "memory usage: 30.5 KB\n"
          ],
          "name": "stdout"
        }
      ]
    },
    {
      "cell_type": "markdown",
      "metadata": {
        "id": "dvmo9nDoS8Yc"
      },
      "source": [
        "# **Cleaning Data**"
      ]
    },
    {
      "cell_type": "code",
      "metadata": {
        "colab": {
          "base_uri": "https://localhost:8080/"
        },
        "id": "y5jPJMtNSZ85",
        "outputId": "23fe72f2-7aaa-4759-9bff-97530505b5d2"
      },
      "source": [
        "# Checking for Null values \n",
        "all_ds.isnull().sum(1)"
      ],
      "execution_count": 9,
      "outputs": [
        {
          "output_type": "execute_result",
          "data": {
            "text/plain": [
              "0      0\n",
              "1      0\n",
              "2      0\n",
              "3      0\n",
              "4      0\n",
              "      ..\n",
              "294    0\n",
              "295    0\n",
              "296    0\n",
              "297    0\n",
              "298    0\n",
              "Length: 299, dtype: int64"
            ]
          },
          "metadata": {
            "tags": []
          },
          "execution_count": 9
        }
      ]
    },
    {
      "cell_type": "code",
      "metadata": {
        "id": "V-wMFkZaS0yn"
      },
      "source": [
        "# No null values. Hence we don't have to replace any rows."
      ],
      "execution_count": 10,
      "outputs": []
    },
    {
      "cell_type": "code",
      "metadata": {
        "id": "q1gitWLohNhE"
      },
      "source": [
        "# \"time\" signifies only the order in which entries are made. Hence we are dropping the column.\n",
        "all_ds = all_ds.drop('time', axis=1)"
      ],
      "execution_count": 11,
      "outputs": []
    },
    {
      "cell_type": "markdown",
      "metadata": {
        "id": "-vpUxqW-TnxS"
      },
      "source": [
        "# **Rearranging Data for better performence**"
      ]
    },
    {
      "cell_type": "code",
      "metadata": {
        "colab": {
          "base_uri": "https://localhost:8080/",
          "height": 417
        },
        "id": "3dNSCmSuclYW",
        "outputId": "b31498dd-069a-4bfa-fac1-2a652e8631db"
      },
      "source": [
        "data = all_ds.sample(frac=1)\n",
        "data"
      ],
      "execution_count": 12,
      "outputs": [
        {
          "output_type": "execute_result",
          "data": {
            "text/html": [
              "<div>\n",
              "<style scoped>\n",
              "    .dataframe tbody tr th:only-of-type {\n",
              "        vertical-align: middle;\n",
              "    }\n",
              "\n",
              "    .dataframe tbody tr th {\n",
              "        vertical-align: top;\n",
              "    }\n",
              "\n",
              "    .dataframe thead th {\n",
              "        text-align: right;\n",
              "    }\n",
              "</style>\n",
              "<table border=\"1\" class=\"dataframe\">\n",
              "  <thead>\n",
              "    <tr style=\"text-align: right;\">\n",
              "      <th></th>\n",
              "      <th>age</th>\n",
              "      <th>anaemia</th>\n",
              "      <th>creatinine_phosphokinase</th>\n",
              "      <th>diabetes</th>\n",
              "      <th>ejection_fraction</th>\n",
              "      <th>high_blood_pressure</th>\n",
              "      <th>platelets</th>\n",
              "      <th>serum_creatinine</th>\n",
              "      <th>serum_sodium</th>\n",
              "      <th>sex</th>\n",
              "      <th>smoking</th>\n",
              "      <th>DEATH_EVENT</th>\n",
              "    </tr>\n",
              "  </thead>\n",
              "  <tbody>\n",
              "    <tr>\n",
              "      <th>112</th>\n",
              "      <td>50.0</td>\n",
              "      <td>0</td>\n",
              "      <td>369</td>\n",
              "      <td>1</td>\n",
              "      <td>25</td>\n",
              "      <td>0</td>\n",
              "      <td>252000.00</td>\n",
              "      <td>1.60</td>\n",
              "      <td>136</td>\n",
              "      <td>1</td>\n",
              "      <td>0</td>\n",
              "      <td>0</td>\n",
              "    </tr>\n",
              "    <tr>\n",
              "      <th>133</th>\n",
              "      <td>63.0</td>\n",
              "      <td>0</td>\n",
              "      <td>193</td>\n",
              "      <td>0</td>\n",
              "      <td>60</td>\n",
              "      <td>1</td>\n",
              "      <td>295000.00</td>\n",
              "      <td>1.30</td>\n",
              "      <td>145</td>\n",
              "      <td>1</td>\n",
              "      <td>1</td>\n",
              "      <td>0</td>\n",
              "    </tr>\n",
              "    <tr>\n",
              "      <th>84</th>\n",
              "      <td>59.0</td>\n",
              "      <td>1</td>\n",
              "      <td>280</td>\n",
              "      <td>1</td>\n",
              "      <td>25</td>\n",
              "      <td>1</td>\n",
              "      <td>302000.00</td>\n",
              "      <td>1.00</td>\n",
              "      <td>141</td>\n",
              "      <td>0</td>\n",
              "      <td>0</td>\n",
              "      <td>1</td>\n",
              "    </tr>\n",
              "    <tr>\n",
              "      <th>273</th>\n",
              "      <td>42.0</td>\n",
              "      <td>0</td>\n",
              "      <td>64</td>\n",
              "      <td>0</td>\n",
              "      <td>40</td>\n",
              "      <td>0</td>\n",
              "      <td>189000.00</td>\n",
              "      <td>0.70</td>\n",
              "      <td>140</td>\n",
              "      <td>1</td>\n",
              "      <td>0</td>\n",
              "      <td>0</td>\n",
              "    </tr>\n",
              "    <tr>\n",
              "      <th>118</th>\n",
              "      <td>65.0</td>\n",
              "      <td>1</td>\n",
              "      <td>113</td>\n",
              "      <td>1</td>\n",
              "      <td>60</td>\n",
              "      <td>1</td>\n",
              "      <td>203000.00</td>\n",
              "      <td>0.90</td>\n",
              "      <td>140</td>\n",
              "      <td>0</td>\n",
              "      <td>0</td>\n",
              "      <td>0</td>\n",
              "    </tr>\n",
              "    <tr>\n",
              "      <th>...</th>\n",
              "      <td>...</td>\n",
              "      <td>...</td>\n",
              "      <td>...</td>\n",
              "      <td>...</td>\n",
              "      <td>...</td>\n",
              "      <td>...</td>\n",
              "      <td>...</td>\n",
              "      <td>...</td>\n",
              "      <td>...</td>\n",
              "      <td>...</td>\n",
              "      <td>...</td>\n",
              "      <td>...</td>\n",
              "    </tr>\n",
              "    <tr>\n",
              "      <th>276</th>\n",
              "      <td>70.0</td>\n",
              "      <td>0</td>\n",
              "      <td>618</td>\n",
              "      <td>0</td>\n",
              "      <td>35</td>\n",
              "      <td>0</td>\n",
              "      <td>327000.00</td>\n",
              "      <td>1.10</td>\n",
              "      <td>142</td>\n",
              "      <td>0</td>\n",
              "      <td>0</td>\n",
              "      <td>0</td>\n",
              "    </tr>\n",
              "    <tr>\n",
              "      <th>247</th>\n",
              "      <td>64.0</td>\n",
              "      <td>0</td>\n",
              "      <td>143</td>\n",
              "      <td>0</td>\n",
              "      <td>25</td>\n",
              "      <td>0</td>\n",
              "      <td>246000.00</td>\n",
              "      <td>2.40</td>\n",
              "      <td>135</td>\n",
              "      <td>1</td>\n",
              "      <td>0</td>\n",
              "      <td>0</td>\n",
              "    </tr>\n",
              "    <tr>\n",
              "      <th>25</th>\n",
              "      <td>80.0</td>\n",
              "      <td>0</td>\n",
              "      <td>148</td>\n",
              "      <td>1</td>\n",
              "      <td>38</td>\n",
              "      <td>0</td>\n",
              "      <td>149000.00</td>\n",
              "      <td>1.90</td>\n",
              "      <td>144</td>\n",
              "      <td>1</td>\n",
              "      <td>1</td>\n",
              "      <td>1</td>\n",
              "    </tr>\n",
              "    <tr>\n",
              "      <th>196</th>\n",
              "      <td>45.0</td>\n",
              "      <td>0</td>\n",
              "      <td>582</td>\n",
              "      <td>1</td>\n",
              "      <td>38</td>\n",
              "      <td>1</td>\n",
              "      <td>263358.03</td>\n",
              "      <td>1.18</td>\n",
              "      <td>137</td>\n",
              "      <td>0</td>\n",
              "      <td>0</td>\n",
              "      <td>0</td>\n",
              "    </tr>\n",
              "    <tr>\n",
              "      <th>171</th>\n",
              "      <td>52.0</td>\n",
              "      <td>0</td>\n",
              "      <td>3966</td>\n",
              "      <td>0</td>\n",
              "      <td>40</td>\n",
              "      <td>0</td>\n",
              "      <td>325000.00</td>\n",
              "      <td>0.90</td>\n",
              "      <td>140</td>\n",
              "      <td>1</td>\n",
              "      <td>1</td>\n",
              "      <td>0</td>\n",
              "    </tr>\n",
              "  </tbody>\n",
              "</table>\n",
              "<p>299 rows × 12 columns</p>\n",
              "</div>"
            ],
            "text/plain": [
              "      age  anaemia  creatinine_phosphokinase  ...  sex  smoking  DEATH_EVENT\n",
              "112  50.0        0                       369  ...    1        0            0\n",
              "133  63.0        0                       193  ...    1        1            0\n",
              "84   59.0        1                       280  ...    0        0            1\n",
              "273  42.0        0                        64  ...    1        0            0\n",
              "118  65.0        1                       113  ...    0        0            0\n",
              "..    ...      ...                       ...  ...  ...      ...          ...\n",
              "276  70.0        0                       618  ...    0        0            0\n",
              "247  64.0        0                       143  ...    1        0            0\n",
              "25   80.0        0                       148  ...    1        1            1\n",
              "196  45.0        0                       582  ...    0        0            0\n",
              "171  52.0        0                      3966  ...    1        1            0\n",
              "\n",
              "[299 rows x 12 columns]"
            ]
          },
          "metadata": {
            "tags": []
          },
          "execution_count": 12
        }
      ]
    },
    {
      "cell_type": "code",
      "metadata": {
        "id": "WGvhlz8Hc8aO"
      },
      "source": [
        "#Dividing data into training data and temperory test data.\n",
        "train_data,temp_test_data = train_test_split(data,test_size = 0.4)"
      ],
      "execution_count": 13,
      "outputs": []
    },
    {
      "cell_type": "code",
      "metadata": {
        "colab": {
          "base_uri": "https://localhost:8080/"
        },
        "id": "xSRZVKdSdLmS",
        "outputId": "b2e0227e-437c-43c4-89be-5ca448090c54"
      },
      "source": [
        "print( train_data.shape)\n",
        "print ( temp_test_data.shape)"
      ],
      "execution_count": 14,
      "outputs": [
        {
          "output_type": "stream",
          "text": [
            "(179, 12)\n",
            "(120, 12)\n"
          ],
          "name": "stdout"
        }
      ]
    },
    {
      "cell_type": "code",
      "metadata": {
        "id": "JjgP4IK6doWk"
      },
      "source": [
        "#Dividing the temperory test data to testing and validation data\n",
        "test_data,valid_data = train_test_split(temp_test_data,test_size = 0.5)"
      ],
      "execution_count": 15,
      "outputs": []
    },
    {
      "cell_type": "code",
      "metadata": {
        "colab": {
          "base_uri": "https://localhost:8080/"
        },
        "id": "aC_JK158eWb0",
        "outputId": "54a7c553-bd4d-4b29-b3da-8b50eb1ef278"
      },
      "source": [
        "print( train_data.shape)\n",
        "print ( test_data.shape)\n",
        "print( valid_data.shape)"
      ],
      "execution_count": 16,
      "outputs": [
        {
          "output_type": "stream",
          "text": [
            "(179, 12)\n",
            "(60, 12)\n",
            "(60, 12)\n"
          ],
          "name": "stdout"
        }
      ]
    },
    {
      "cell_type": "markdown",
      "metadata": {
        "id": "PlAfUV4RUcKU"
      },
      "source": [
        "# **EDA**"
      ]
    },
    {
      "cell_type": "code",
      "metadata": {
        "colab": {
          "base_uri": "https://localhost:8080/"
        },
        "id": "4tqwQ--YeZNG",
        "outputId": "342d2ba5-d34f-448d-f719-58da0130b4ef"
      },
      "source": [
        "# Pairwise plot to find any anomolies.\n",
        "train_stats = train_data.describe()\n",
        "train_stats.pop('DEATH_EVENT')"
      ],
      "execution_count": 17,
      "outputs": [
        {
          "output_type": "execute_result",
          "data": {
            "text/plain": [
              "count    179.000000\n",
              "mean       0.329609\n",
              "std        0.471390\n",
              "min        0.000000\n",
              "25%        0.000000\n",
              "50%        0.000000\n",
              "75%        1.000000\n",
              "max        1.000000\n",
              "Name: DEATH_EVENT, dtype: float64"
            ]
          },
          "metadata": {
            "tags": []
          },
          "execution_count": 17
        }
      ]
    },
    {
      "cell_type": "code",
      "metadata": {
        "colab": {
          "base_uri": "https://localhost:8080/",
          "height": 1000
        },
        "id": "ObR4WJ5dfQAN",
        "outputId": "f3c61731-0443-4230-ede3-bbcb3d4674d2"
      },
      "source": [
        "sns.pairplot(train_stats[train_stats.columns], diag_kind = \"kde\")"
      ],
      "execution_count": 18,
      "outputs": [
        {
          "output_type": "execute_result",
          "data": {
            "text/plain": [
              "<seaborn.axisgrid.PairGrid at 0x7f6780dc1850>"
            ]
          },
          "metadata": {
            "tags": []
          },
          "execution_count": 18
        },
        {
          "output_type": "display_data",
          "data": {
            "image/png": "[encoded data removed]",
            "text/plain": [
              "<Figure size 1980x1980 with 132 Axes>"
            ]
          },
          "metadata": {
            "tags": [],
            "needs_background": "light"
          }
        }
      ]
    },
    {
      "cell_type": "code",
      "metadata": {
        "colab": {
          "base_uri": "https://localhost:8080/",
          "height": 388
        },
        "id": "5MeYXqj-fewv",
        "outputId": "3674dc2c-9ba7-4eec-a7b7-f30973b02db0"
      },
      "source": [
        "train_stats = train_stats.transpose()\n",
        "train_stats"
      ],
      "execution_count": 19,
      "outputs": [
        {
          "output_type": "execute_result",
          "data": {
            "text/html": [
              "<div>\n",
              "<style scoped>\n",
              "    .dataframe tbody tr th:only-of-type {\n",
              "        vertical-align: middle;\n",
              "    }\n",
              "\n",
              "    .dataframe tbody tr th {\n",
              "        vertical-align: top;\n",
              "    }\n",
              "\n",
              "    .dataframe thead th {\n",
              "        text-align: right;\n",
              "    }\n",
              "</style>\n",
              "<table border=\"1\" class=\"dataframe\">\n",
              "  <thead>\n",
              "    <tr style=\"text-align: right;\">\n",
              "      <th></th>\n",
              "      <th>count</th>\n",
              "      <th>mean</th>\n",
              "      <th>std</th>\n",
              "      <th>min</th>\n",
              "      <th>25%</th>\n",
              "      <th>50%</th>\n",
              "      <th>75%</th>\n",
              "      <th>max</th>\n",
              "    </tr>\n",
              "  </thead>\n",
              "  <tbody>\n",
              "    <tr>\n",
              "      <th>age</th>\n",
              "      <td>179.0</td>\n",
              "      <td>62.279330</td>\n",
              "      <td>12.699649</td>\n",
              "      <td>40.0</td>\n",
              "      <td>51.0</td>\n",
              "      <td>62.0</td>\n",
              "      <td>70.0</td>\n",
              "      <td>95.0</td>\n",
              "    </tr>\n",
              "    <tr>\n",
              "      <th>anaemia</th>\n",
              "      <td>179.0</td>\n",
              "      <td>0.413408</td>\n",
              "      <td>0.493826</td>\n",
              "      <td>0.0</td>\n",
              "      <td>0.0</td>\n",
              "      <td>0.0</td>\n",
              "      <td>1.0</td>\n",
              "      <td>1.0</td>\n",
              "    </tr>\n",
              "    <tr>\n",
              "      <th>creatinine_phosphokinase</th>\n",
              "      <td>179.0</td>\n",
              "      <td>639.553073</td>\n",
              "      <td>998.163246</td>\n",
              "      <td>47.0</td>\n",
              "      <td>129.0</td>\n",
              "      <td>292.0</td>\n",
              "      <td>582.0</td>\n",
              "      <td>7861.0</td>\n",
              "    </tr>\n",
              "    <tr>\n",
              "      <th>diabetes</th>\n",
              "      <td>179.0</td>\n",
              "      <td>0.430168</td>\n",
              "      <td>0.496488</td>\n",
              "      <td>0.0</td>\n",
              "      <td>0.0</td>\n",
              "      <td>0.0</td>\n",
              "      <td>1.0</td>\n",
              "      <td>1.0</td>\n",
              "    </tr>\n",
              "    <tr>\n",
              "      <th>ejection_fraction</th>\n",
              "      <td>179.0</td>\n",
              "      <td>37.960894</td>\n",
              "      <td>11.921731</td>\n",
              "      <td>14.0</td>\n",
              "      <td>30.0</td>\n",
              "      <td>38.0</td>\n",
              "      <td>45.0</td>\n",
              "      <td>80.0</td>\n",
              "    </tr>\n",
              "    <tr>\n",
              "      <th>high_blood_pressure</th>\n",
              "      <td>179.0</td>\n",
              "      <td>0.296089</td>\n",
              "      <td>0.457811</td>\n",
              "      <td>0.0</td>\n",
              "      <td>0.0</td>\n",
              "      <td>0.0</td>\n",
              "      <td>1.0</td>\n",
              "      <td>1.0</td>\n",
              "    </tr>\n",
              "    <tr>\n",
              "      <th>platelets</th>\n",
              "      <td>179.0</td>\n",
              "      <td>265028.974916</td>\n",
              "      <td>106313.208372</td>\n",
              "      <td>25100.0</td>\n",
              "      <td>213000.0</td>\n",
              "      <td>255000.0</td>\n",
              "      <td>301500.0</td>\n",
              "      <td>850000.0</td>\n",
              "    </tr>\n",
              "    <tr>\n",
              "      <th>serum_creatinine</th>\n",
              "      <td>179.0</td>\n",
              "      <td>1.399050</td>\n",
              "      <td>1.043572</td>\n",
              "      <td>0.5</td>\n",
              "      <td>0.9</td>\n",
              "      <td>1.1</td>\n",
              "      <td>1.4</td>\n",
              "      <td>9.4</td>\n",
              "    </tr>\n",
              "    <tr>\n",
              "      <th>serum_sodium</th>\n",
              "      <td>179.0</td>\n",
              "      <td>136.469274</td>\n",
              "      <td>4.570657</td>\n",
              "      <td>113.0</td>\n",
              "      <td>134.0</td>\n",
              "      <td>137.0</td>\n",
              "      <td>139.0</td>\n",
              "      <td>146.0</td>\n",
              "    </tr>\n",
              "    <tr>\n",
              "      <th>sex</th>\n",
              "      <td>179.0</td>\n",
              "      <td>0.659218</td>\n",
              "      <td>0.475302</td>\n",
              "      <td>0.0</td>\n",
              "      <td>0.0</td>\n",
              "      <td>1.0</td>\n",
              "      <td>1.0</td>\n",
              "      <td>1.0</td>\n",
              "    </tr>\n",
              "    <tr>\n",
              "      <th>smoking</th>\n",
              "      <td>179.0</td>\n",
              "      <td>0.318436</td>\n",
              "      <td>0.467176</td>\n",
              "      <td>0.0</td>\n",
              "      <td>0.0</td>\n",
              "      <td>0.0</td>\n",
              "      <td>1.0</td>\n",
              "      <td>1.0</td>\n",
              "    </tr>\n",
              "  </tbody>\n",
              "</table>\n",
              "</div>"
            ],
            "text/plain": [
              "                          count           mean  ...       75%       max\n",
              "age                       179.0      62.279330  ...      70.0      95.0\n",
              "anaemia                   179.0       0.413408  ...       1.0       1.0\n",
              "creatinine_phosphokinase  179.0     639.553073  ...     582.0    7861.0\n",
              "diabetes                  179.0       0.430168  ...       1.0       1.0\n",
              "ejection_fraction         179.0      37.960894  ...      45.0      80.0\n",
              "high_blood_pressure       179.0       0.296089  ...       1.0       1.0\n",
              "platelets                 179.0  265028.974916  ...  301500.0  850000.0\n",
              "serum_creatinine          179.0       1.399050  ...       1.4       9.4\n",
              "serum_sodium              179.0     136.469274  ...     139.0     146.0\n",
              "sex                       179.0       0.659218  ...       1.0       1.0\n",
              "smoking                   179.0       0.318436  ...       1.0       1.0\n",
              "\n",
              "[11 rows x 8 columns]"
            ]
          },
          "metadata": {
            "tags": []
          },
          "execution_count": 19
        }
      ]
    },
    {
      "cell_type": "code",
      "metadata": {
        "id": "lsG5KRCTjw56"
      },
      "source": [
        "# Removing the target vaiables and saving in different dataframes.\n",
        "train_labels = train_data.pop('DEATH_EVENT')\n",
        "test_labels = test_data.pop('DEATH_EVENT')\n",
        "valid_labels = valid_data.pop('DEATH_EVENT')"
      ],
      "execution_count": 20,
      "outputs": []
    },
    {
      "cell_type": "markdown",
      "metadata": {
        "id": "VJgIknjYVAUi"
      },
      "source": [
        "# **Normalising the data**"
      ]
    },
    {
      "cell_type": "code",
      "metadata": {
        "id": "B86GcTsDvgND"
      },
      "source": [
        "def norm(x) : \n",
        "  return (x-train_stats['mean'])/(train_stats['std'])"
      ],
      "execution_count": 21,
      "outputs": []
    },
    {
      "cell_type": "code",
      "metadata": {
        "id": "g8r4HEwdv4Er"
      },
      "source": [
        "normed_train_data = norm(train_data)\n",
        "normed_test_data = norm(test_data)\n",
        "normed_valid_data = norm(valid_data)"
      ],
      "execution_count": 22,
      "outputs": []
    },
    {
      "cell_type": "code",
      "metadata": {
        "colab": {
          "base_uri": "https://localhost:8080/",
          "height": 357
        },
        "id": "ckTiqU7NWwxx",
        "outputId": "54ed9eec-d1c3-4a75-de17-dcef0be1cc0c"
      },
      "source": [
        "normed_train_data.head(10)"
      ],
      "execution_count": 23,
      "outputs": [
        {
          "output_type": "execute_result",
          "data": {
            "text/html": [
              "<div>\n",
              "<style scoped>\n",
              "    .dataframe tbody tr th:only-of-type {\n",
              "        vertical-align: middle;\n",
              "    }\n",
              "\n",
              "    .dataframe tbody tr th {\n",
              "        vertical-align: top;\n",
              "    }\n",
              "\n",
              "    .dataframe thead th {\n",
              "        text-align: right;\n",
              "    }\n",
              "</style>\n",
              "<table border=\"1\" class=\"dataframe\">\n",
              "  <thead>\n",
              "    <tr style=\"text-align: right;\">\n",
              "      <th></th>\n",
              "      <th>age</th>\n",
              "      <th>anaemia</th>\n",
              "      <th>creatinine_phosphokinase</th>\n",
              "      <th>diabetes</th>\n",
              "      <th>ejection_fraction</th>\n",
              "      <th>high_blood_pressure</th>\n",
              "      <th>platelets</th>\n",
              "      <th>serum_creatinine</th>\n",
              "      <th>serum_sodium</th>\n",
              "      <th>sex</th>\n",
              "      <th>smoking</th>\n",
              "    </tr>\n",
              "  </thead>\n",
              "  <tbody>\n",
              "    <tr>\n",
              "      <th>139</th>\n",
              "      <td>-0.966903</td>\n",
              "      <td>-0.837153</td>\n",
              "      <td>0.910119</td>\n",
              "      <td>-0.866421</td>\n",
              "      <td>-0.667763</td>\n",
              "      <td>1.537556</td>\n",
              "      <td>-0.508206</td>\n",
              "      <td>-0.574038</td>\n",
              "      <td>0.334903</td>\n",
              "      <td>0.716981</td>\n",
              "      <td>-0.681618</td>\n",
              "    </tr>\n",
              "    <tr>\n",
              "      <th>216</th>\n",
              "      <td>0.607944</td>\n",
              "      <td>-0.837153</td>\n",
              "      <td>0.563482</td>\n",
              "      <td>-0.866421</td>\n",
              "      <td>1.009845</td>\n",
              "      <td>1.537556</td>\n",
              "      <td>0.874501</td>\n",
              "      <td>-0.478213</td>\n",
              "      <td>0.991264</td>\n",
              "      <td>-1.386946</td>\n",
              "      <td>-0.681618</td>\n",
              "    </tr>\n",
              "    <tr>\n",
              "      <th>238</th>\n",
              "      <td>0.214232</td>\n",
              "      <td>1.187852</td>\n",
              "      <td>0.080595</td>\n",
              "      <td>1.147726</td>\n",
              "      <td>0.171041</td>\n",
              "      <td>-0.646750</td>\n",
              "      <td>-0.075522</td>\n",
              "      <td>-0.382389</td>\n",
              "      <td>-0.102671</td>\n",
              "      <td>-1.386946</td>\n",
              "      <td>-0.681618</td>\n",
              "    </tr>\n",
              "    <tr>\n",
              "      <th>253</th>\n",
              "      <td>0.607944</td>\n",
              "      <td>-0.837153</td>\n",
              "      <td>-0.552568</td>\n",
              "      <td>1.147726</td>\n",
              "      <td>-0.248361</td>\n",
              "      <td>1.537556</td>\n",
              "      <td>-0.273051</td>\n",
              "      <td>-0.190739</td>\n",
              "      <td>-0.977819</td>\n",
              "      <td>-1.386946</td>\n",
              "      <td>-0.681618</td>\n",
              "    </tr>\n",
              "    <tr>\n",
              "      <th>135</th>\n",
              "      <td>1.001655</td>\n",
              "      <td>-0.837153</td>\n",
              "      <td>-0.057659</td>\n",
              "      <td>-0.866421</td>\n",
              "      <td>0.171041</td>\n",
              "      <td>-0.646750</td>\n",
              "      <td>-0.015717</td>\n",
              "      <td>-0.209904</td>\n",
              "      <td>0.116116</td>\n",
              "      <td>0.716981</td>\n",
              "      <td>-0.681618</td>\n",
              "    </tr>\n",
              "    <tr>\n",
              "      <th>113</th>\n",
              "      <td>0.607944</td>\n",
              "      <td>1.187852</td>\n",
              "      <td>-0.497467</td>\n",
              "      <td>-0.866421</td>\n",
              "      <td>1.848650</td>\n",
              "      <td>-0.646750</td>\n",
              "      <td>0.808658</td>\n",
              "      <td>-0.094915</td>\n",
              "      <td>0.116116</td>\n",
              "      <td>-1.386946</td>\n",
              "      <td>-0.681618</td>\n",
              "    </tr>\n",
              "    <tr>\n",
              "      <th>250</th>\n",
              "      <td>-0.966903</td>\n",
              "      <td>-0.837153</td>\n",
              "      <td>1.885911</td>\n",
              "      <td>-0.866421</td>\n",
              "      <td>-0.667763</td>\n",
              "      <td>1.537556</td>\n",
              "      <td>1.307185</td>\n",
              "      <td>-0.861512</td>\n",
              "      <td>0.553690</td>\n",
              "      <td>-1.386946</td>\n",
              "      <td>-0.681618</td>\n",
              "    </tr>\n",
              "    <tr>\n",
              "      <th>178</th>\n",
              "      <td>0.056747</td>\n",
              "      <td>1.187852</td>\n",
              "      <td>-0.518505</td>\n",
              "      <td>1.147726</td>\n",
              "      <td>1.848650</td>\n",
              "      <td>-0.646750</td>\n",
              "      <td>0.018540</td>\n",
              "      <td>-0.190739</td>\n",
              "      <td>1.866411</td>\n",
              "      <td>0.716981</td>\n",
              "      <td>-0.681618</td>\n",
              "    </tr>\n",
              "    <tr>\n",
              "      <th>49</th>\n",
              "      <td>-0.415707</td>\n",
              "      <td>1.187852</td>\n",
              "      <td>-0.511493</td>\n",
              "      <td>-0.866421</td>\n",
              "      <td>-0.667763</td>\n",
              "      <td>-0.646750</td>\n",
              "      <td>1.222529</td>\n",
              "      <td>-0.382389</td>\n",
              "      <td>0.772477</td>\n",
              "      <td>-1.386946</td>\n",
              "      <td>-0.681618</td>\n",
              "    </tr>\n",
              "    <tr>\n",
              "      <th>91</th>\n",
              "      <td>-0.179480</td>\n",
              "      <td>-0.837153</td>\n",
              "      <td>0.257921</td>\n",
              "      <td>1.147726</td>\n",
              "      <td>0.590443</td>\n",
              "      <td>-0.646750</td>\n",
              "      <td>0.300725</td>\n",
              "      <td>-0.382389</td>\n",
              "      <td>-0.759032</td>\n",
              "      <td>0.716981</td>\n",
              "      <td>-0.681618</td>\n",
              "    </tr>\n",
              "  </tbody>\n",
              "</table>\n",
              "</div>"
            ],
            "text/plain": [
              "          age   anaemia  ...       sex   smoking\n",
              "139 -0.966903 -0.837153  ...  0.716981 -0.681618\n",
              "216  0.607944 -0.837153  ... -1.386946 -0.681618\n",
              "238  0.214232  1.187852  ... -1.386946 -0.681618\n",
              "253  0.607944 -0.837153  ... -1.386946 -0.681618\n",
              "135  1.001655 -0.837153  ...  0.716981 -0.681618\n",
              "113  0.607944  1.187852  ... -1.386946 -0.681618\n",
              "250 -0.966903 -0.837153  ... -1.386946 -0.681618\n",
              "178  0.056747  1.187852  ...  0.716981 -0.681618\n",
              "49  -0.415707  1.187852  ... -1.386946 -0.681618\n",
              "91  -0.179480 -0.837153  ...  0.716981 -0.681618\n",
              "\n",
              "[10 rows x 11 columns]"
            ]
          },
          "metadata": {
            "tags": []
          },
          "execution_count": 23
        }
      ]
    },
    {
      "cell_type": "code",
      "metadata": {
        "colab": {
          "base_uri": "https://localhost:8080/",
          "height": 388
        },
        "id": "BeiReiCGwkuQ",
        "outputId": "ac138525-8ae1-4ae7-8a96-8ebd3fc5fb76"
      },
      "source": [
        "normed_train_data.describe().transpose()"
      ],
      "execution_count": 24,
      "outputs": [
        {
          "output_type": "execute_result",
          "data": {
            "text/html": [
              "<div>\n",
              "<style scoped>\n",
              "    .dataframe tbody tr th:only-of-type {\n",
              "        vertical-align: middle;\n",
              "    }\n",
              "\n",
              "    .dataframe tbody tr th {\n",
              "        vertical-align: top;\n",
              "    }\n",
              "\n",
              "    .dataframe thead th {\n",
              "        text-align: right;\n",
              "    }\n",
              "</style>\n",
              "<table border=\"1\" class=\"dataframe\">\n",
              "  <thead>\n",
              "    <tr style=\"text-align: right;\">\n",
              "      <th></th>\n",
              "      <th>count</th>\n",
              "      <th>mean</th>\n",
              "      <th>std</th>\n",
              "      <th>min</th>\n",
              "      <th>25%</th>\n",
              "      <th>50%</th>\n",
              "      <th>75%</th>\n",
              "      <th>max</th>\n",
              "    </tr>\n",
              "  </thead>\n",
              "  <tbody>\n",
              "    <tr>\n",
              "      <th>age</th>\n",
              "      <td>179.0</td>\n",
              "      <td>6.884623e-17</td>\n",
              "      <td>1.0</td>\n",
              "      <td>-1.754326</td>\n",
              "      <td>-0.888161</td>\n",
              "      <td>-0.021995</td>\n",
              "      <td>0.607944</td>\n",
              "      <td>2.576502</td>\n",
              "    </tr>\n",
              "    <tr>\n",
              "      <th>anaemia</th>\n",
              "      <td>179.0</td>\n",
              "      <td>-1.984756e-17</td>\n",
              "      <td>1.0</td>\n",
              "      <td>-0.837153</td>\n",
              "      <td>-0.837153</td>\n",
              "      <td>-0.837153</td>\n",
              "      <td>1.187852</td>\n",
              "      <td>1.187852</td>\n",
              "    </tr>\n",
              "    <tr>\n",
              "      <th>creatinine_phosphokinase</th>\n",
              "      <td>179.0</td>\n",
              "      <td>3.504335e-17</td>\n",
              "      <td>1.0</td>\n",
              "      <td>-0.593643</td>\n",
              "      <td>-0.511493</td>\n",
              "      <td>-0.348193</td>\n",
              "      <td>-0.057659</td>\n",
              "      <td>7.234735</td>\n",
              "    </tr>\n",
              "    <tr>\n",
              "      <th>diabetes</th>\n",
              "      <td>179.0</td>\n",
              "      <td>-3.473323e-17</td>\n",
              "      <td>1.0</td>\n",
              "      <td>-0.866421</td>\n",
              "      <td>-0.866421</td>\n",
              "      <td>-0.866421</td>\n",
              "      <td>1.147726</td>\n",
              "      <td>1.147726</td>\n",
              "    </tr>\n",
              "    <tr>\n",
              "      <th>ejection_fraction</th>\n",
              "      <td>179.0</td>\n",
              "      <td>-1.559894e-16</td>\n",
              "      <td>1.0</td>\n",
              "      <td>-2.009850</td>\n",
              "      <td>-0.667763</td>\n",
              "      <td>0.003280</td>\n",
              "      <td>0.590443</td>\n",
              "      <td>3.526259</td>\n",
              "    </tr>\n",
              "    <tr>\n",
              "      <th>high_blood_pressure</th>\n",
              "      <td>179.0</td>\n",
              "      <td>-1.327306e-16</td>\n",
              "      <td>1.0</td>\n",
              "      <td>-0.646750</td>\n",
              "      <td>-0.646750</td>\n",
              "      <td>-0.646750</td>\n",
              "      <td>1.537556</td>\n",
              "      <td>1.537556</td>\n",
              "    </tr>\n",
              "    <tr>\n",
              "      <th>platelets</th>\n",
              "      <td>179.0</td>\n",
              "      <td>-7.349800e-16</td>\n",
              "      <td>1.0</td>\n",
              "      <td>-2.256812</td>\n",
              "      <td>-0.489393</td>\n",
              "      <td>-0.094334</td>\n",
              "      <td>0.343053</td>\n",
              "      <td>5.502336</td>\n",
              "    </tr>\n",
              "    <tr>\n",
              "      <th>serum_creatinine</th>\n",
              "      <td>179.0</td>\n",
              "      <td>-1.868462e-16</td>\n",
              "      <td>1.0</td>\n",
              "      <td>-0.861512</td>\n",
              "      <td>-0.478213</td>\n",
              "      <td>-0.286564</td>\n",
              "      <td>0.000910</td>\n",
              "      <td>7.666885</td>\n",
              "    </tr>\n",
              "    <tr>\n",
              "      <th>serum_sodium</th>\n",
              "      <td>179.0</td>\n",
              "      <td>-2.414890e-15</td>\n",
              "      <td>1.0</td>\n",
              "      <td>-5.134770</td>\n",
              "      <td>-0.540245</td>\n",
              "      <td>0.116116</td>\n",
              "      <td>0.553690</td>\n",
              "      <td>2.085198</td>\n",
              "    </tr>\n",
              "    <tr>\n",
              "      <th>sex</th>\n",
              "      <td>179.0</td>\n",
              "      <td>3.473323e-17</td>\n",
              "      <td>1.0</td>\n",
              "      <td>-1.386946</td>\n",
              "      <td>-1.386946</td>\n",
              "      <td>0.716981</td>\n",
              "      <td>0.716981</td>\n",
              "      <td>0.716981</td>\n",
              "    </tr>\n",
              "    <tr>\n",
              "      <th>smoking</th>\n",
              "      <td>179.0</td>\n",
              "      <td>9.675687e-17</td>\n",
              "      <td>1.0</td>\n",
              "      <td>-0.681618</td>\n",
              "      <td>-0.681618</td>\n",
              "      <td>-0.681618</td>\n",
              "      <td>1.458902</td>\n",
              "      <td>1.458902</td>\n",
              "    </tr>\n",
              "  </tbody>\n",
              "</table>\n",
              "</div>"
            ],
            "text/plain": [
              "                          count          mean  ...       75%       max\n",
              "age                       179.0  6.884623e-17  ...  0.607944  2.576502\n",
              "anaemia                   179.0 -1.984756e-17  ...  1.187852  1.187852\n",
              "creatinine_phosphokinase  179.0  3.504335e-17  ... -0.057659  7.234735\n",
              "diabetes                  179.0 -3.473323e-17  ...  1.147726  1.147726\n",
              "ejection_fraction         179.0 -1.559894e-16  ...  0.590443  3.526259\n",
              "high_blood_pressure       179.0 -1.327306e-16  ...  1.537556  1.537556\n",
              "platelets                 179.0 -7.349800e-16  ...  0.343053  5.502336\n",
              "serum_creatinine          179.0 -1.868462e-16  ...  0.000910  7.666885\n",
              "serum_sodium              179.0 -2.414890e-15  ...  0.553690  2.085198\n",
              "sex                       179.0  3.473323e-17  ...  0.716981  0.716981\n",
              "smoking                   179.0  9.675687e-17  ...  1.458902  1.458902\n",
              "\n",
              "[11 rows x 8 columns]"
            ]
          },
          "metadata": {
            "tags": []
          },
          "execution_count": 24
        }
      ]
    },
    {
      "cell_type": "markdown",
      "metadata": {
        "id": "DZybJDOkxOqW"
      },
      "source": [
        "# ***Building the Neural Network***"
      ]
    },
    {
      "cell_type": "code",
      "metadata": {
        "colab": {
          "base_uri": "https://localhost:8080/"
        },
        "id": "cabgPEuExBlO",
        "outputId": "220271cc-59d0-454f-a3d6-8f07a764cc9e"
      },
      "source": [
        "# We declare a function for modelling.\n",
        "def build_model_3hidden_layers():\n",
        "  # Keras model object, container that contains all the layers.\n",
        "  model = Sequential()\n",
        "  # Input layer with 32 Neurons.\n",
        "  model.add(Dense(32, input_shape = (normed_train_data.shape[1],)))\n",
        "\n",
        "\n",
        "  model.add(Dense(32,Activation('relu')))\n",
        "\n",
        "  model.add(Dense(64,Activation('relu')))\n",
        "\n",
        "  model.add(Dense(64,Activation('relu')))\n",
        "\n",
        "  model.add(Dense(128,Activation('relu')))\n",
        "\n",
        "  model.add(Dense(1))\n",
        "\n",
        "  learning_rate = 0.001\n",
        "  optimizer = optimizers.SGD(learning_rate)\n",
        "  model.compile( loss = tf.keras.losses.BinaryCrossentropy( from_logits= True ) ,\n",
        "              optimizer = optimizer ,\n",
        "              metrics=['accuracy'])\n",
        "\n",
        "#softmax\n",
        "\n",
        "  return model\n",
        "  return model\n",
        "\n",
        "model2 = build_model_3hidden_layers()\n",
        "print('Summary of the model : ')\n",
        "model2.summary()\n",
        "\n",
        "\n"
      ],
      "execution_count": 25,
      "outputs": [
        {
          "output_type": "stream",
          "text": [
            "Summary of the model : \n",
            "Model: \"sequential\"\n",
            "_________________________________________________________________\n",
            "Layer (type)                 Output Shape              Param #   \n",
            "=================================================================\n",
            "dense (Dense)                (None, 32)                384       \n",
            "_________________________________________________________________\n",
            "dense_1 (Dense)              (None, 32)                1056      \n",
            "_________________________________________________________________\n",
            "dense_2 (Dense)              (None, 64)                2112      \n",
            "_________________________________________________________________\n",
            "dense_3 (Dense)              (None, 64)                4160      \n",
            "_________________________________________________________________\n",
            "dense_4 (Dense)              (None, 128)               8320      \n",
            "_________________________________________________________________\n",
            "dense_5 (Dense)              (None, 1)                 129       \n",
            "=================================================================\n",
            "Total params: 16,161\n",
            "Trainable params: 16,161\n",
            "Non-trainable params: 0\n",
            "_________________________________________________________________\n"
          ],
          "name": "stdout"
        }
      ]
    },
    {
      "cell_type": "markdown",
      "metadata": {
        "id": "gjFxV3iVolAE"
      },
      "source": [
        "# **Training the data**"
      ]
    },
    {
      "cell_type": "code",
      "metadata": {
        "colab": {
          "base_uri": "https://localhost:8080/"
        },
        "id": "5kpIY6LjgmB3",
        "outputId": "73117fe6-1c9e-4551-d172-5aad5f4413b7"
      },
      "source": [
        "def build_model_2hidden_layers() :\n",
        "  \n",
        "  model = Sequential()\n",
        "\n",
        "  #Input layer\n",
        "  model.add(Dense(32, input_shape = (normed_train_data.shape[1],)))\n",
        "  model.add(Dense(128,Activation('relu')))\n",
        "\n",
        "  model.add(Dense(1))\n",
        "\n",
        "  learning_rate = 0.0001\n",
        "  optimizer = optimizers.SGD(learning_rate)\n",
        "  model.compile( loss = tf.keras.losses.BinaryCrossentropy(from_logits=True), optimizer=optimizer, metrics=['accuracy'])\n",
        "\n",
        "  return model\n",
        "\n",
        "\n",
        "\n",
        "model=build_model_2hidden_layers()\n",
        "print('Summary of the model : ')\n",
        "model.summary()\n",
        "\n"
      ],
      "execution_count": 26,
      "outputs": [
        {
          "output_type": "stream",
          "text": [
            "Summary of the model : \n",
            "Model: \"sequential_1\"\n",
            "_________________________________________________________________\n",
            "Layer (type)                 Output Shape              Param #   \n",
            "=================================================================\n",
            "dense_6 (Dense)              (None, 32)                384       \n",
            "_________________________________________________________________\n",
            "dense_7 (Dense)              (None, 128)               4224      \n",
            "_________________________________________________________________\n",
            "dense_8 (Dense)              (None, 1)                 129       \n",
            "=================================================================\n",
            "Total params: 4,737\n",
            "Trainable params: 4,737\n",
            "Non-trainable params: 0\n",
            "_________________________________________________________________\n"
          ],
          "name": "stdout"
        }
      ]
    },
    {
      "cell_type": "code",
      "metadata": {
        "id": "cFN6cAlWljyM"
      },
      "source": [
        "EPOCHS = 1024\n",
        "batch_size = 16\n",
        "\n",
        "history = model.fit(\n",
        "    normed_train_data,\n",
        "    train_labels,\n",
        "    batch_size = batch_size,\n",
        "    epochs = EPOCHS,\n",
        "    shuffle = True,\n",
        "    steps_per_epoch = int(normed_train_data.shape[0]/batch_size),\n",
        "    validation_data = (normed_valid_data, valid_labels)\n",
        "\n",
        ")"
      ],
      "execution_count": null,
      "outputs": []
    },
    {
      "cell_type": "code",
      "metadata": {
        "colab": {
          "base_uri": "https://localhost:8080/",
          "height": 220
        },
        "id": "633Pu6YEmuHI",
        "outputId": "4371a1c9-91cc-4a78-e388-a0c9f937c83e"
      },
      "source": [
        "print('Summary of results of each Epoch : ')\n",
        "hist = pd.DataFrame(history.history)\n",
        "hist['epoch']=history.epoch\n",
        "hist.tail()"
      ],
      "execution_count": 31,
      "outputs": [
        {
          "output_type": "stream",
          "text": [
            "Summary of results of each Epoch : \n"
          ],
          "name": "stdout"
        },
        {
          "output_type": "execute_result",
          "data": {
            "text/html": [
              "<div>\n",
              "<style scoped>\n",
              "    .dataframe tbody tr th:only-of-type {\n",
              "        vertical-align: middle;\n",
              "    }\n",
              "\n",
              "    .dataframe tbody tr th {\n",
              "        vertical-align: top;\n",
              "    }\n",
              "\n",
              "    .dataframe thead th {\n",
              "        text-align: right;\n",
              "    }\n",
              "</style>\n",
              "<table border=\"1\" class=\"dataframe\">\n",
              "  <thead>\n",
              "    <tr style=\"text-align: right;\">\n",
              "      <th></th>\n",
              "      <th>loss</th>\n",
              "      <th>accuracy</th>\n",
              "      <th>val_loss</th>\n",
              "      <th>val_accuracy</th>\n",
              "      <th>epoch</th>\n",
              "    </tr>\n",
              "  </thead>\n",
              "  <tbody>\n",
              "    <tr>\n",
              "      <th>1019</th>\n",
              "      <td>0.583613</td>\n",
              "      <td>0.699386</td>\n",
              "      <td>0.589871</td>\n",
              "      <td>0.7</td>\n",
              "      <td>1019</td>\n",
              "    </tr>\n",
              "    <tr>\n",
              "      <th>1020</th>\n",
              "      <td>0.593828</td>\n",
              "      <td>0.681818</td>\n",
              "      <td>0.589796</td>\n",
              "      <td>0.7</td>\n",
              "      <td>1020</td>\n",
              "    </tr>\n",
              "    <tr>\n",
              "      <th>1021</th>\n",
              "      <td>0.576101</td>\n",
              "      <td>0.693252</td>\n",
              "      <td>0.589707</td>\n",
              "      <td>0.7</td>\n",
              "      <td>1021</td>\n",
              "    </tr>\n",
              "    <tr>\n",
              "      <th>1022</th>\n",
              "      <td>0.590773</td>\n",
              "      <td>0.705521</td>\n",
              "      <td>0.589631</td>\n",
              "      <td>0.7</td>\n",
              "      <td>1022</td>\n",
              "    </tr>\n",
              "    <tr>\n",
              "      <th>1023</th>\n",
              "      <td>0.591758</td>\n",
              "      <td>0.674847</td>\n",
              "      <td>0.589585</td>\n",
              "      <td>0.7</td>\n",
              "      <td>1023</td>\n",
              "    </tr>\n",
              "  </tbody>\n",
              "</table>\n",
              "</div>"
            ],
            "text/plain": [
              "          loss  accuracy  val_loss  val_accuracy  epoch\n",
              "1019  0.583613  0.699386  0.589871           0.7   1019\n",
              "1020  0.593828  0.681818  0.589796           0.7   1020\n",
              "1021  0.576101  0.693252  0.589707           0.7   1021\n",
              "1022  0.590773  0.705521  0.589631           0.7   1022\n",
              "1023  0.591758  0.674847  0.589585           0.7   1023"
            ]
          },
          "metadata": {
            "tags": []
          },
          "execution_count": 31
        }
      ]
    },
    {
      "cell_type": "markdown",
      "metadata": {
        "id": "zcSUl2oWorFE"
      },
      "source": [
        "# **Loss/Accuracy Plots :**"
      ]
    },
    {
      "cell_type": "code",
      "metadata": {
        "colab": {
          "base_uri": "https://localhost:8080/",
          "height": 295
        },
        "id": "uY0dKE0yoKvQ",
        "outputId": "3f6e50d9-d417-4a6b-bec9-48bb33bc1e44"
      },
      "source": [
        "from matplotlib import pyplot as plt\n",
        "plt.plot(history.history['accuracy'])\n",
        "plt.plot(history.history['val_accuracy'])\n",
        "plt.title('model accuracy')\n",
        "plt.ylabel('Accuracy')\n",
        "plt.xlabel('EPOCH')\n",
        "plt.legend(['Train','Cross_Validation'], loc = 'upper left')\n",
        "plt.show()"
      ],
      "execution_count": 32,
      "outputs": [
        {
          "output_type": "display_data",
          "data": {
            "image/png": "[encoded data removed]",
            "text/plain": [
              "<Figure size 432x288 with 1 Axes>"
            ]
          },
          "metadata": {
            "tags": [],
            "needs_background": "light"
          }
        }
      ]
    },
    {
      "cell_type": "code",
      "metadata": {
        "colab": {
          "base_uri": "https://localhost:8080/",
          "height": 295
        },
        "id": "miloqYVmpj-z",
        "outputId": "8ec5ad5e-8116-4f82-fca2-715477ee7b8e"
      },
      "source": [
        "plt.plot(history.history['loss'])\n",
        "plt.plot(history.history['val_loss'])\n",
        "plt.title('Model Loss')\n",
        "plt.ylabel('Loss')\n",
        "plt.xlabel('EPOCH')\n",
        "plt.legend(['Train','Cross-Validation'], loc='upper left')\n",
        "plt.show()"
      ],
      "execution_count": 33,
      "outputs": [
        {
          "output_type": "display_data",
          "data": {
            "image/png": "[encoded data removed]",
            "text/plain": [
              "<Figure size 432x288 with 1 Axes>"
            ]
          },
          "metadata": {
            "tags": [],
            "needs_background": "light"
          }
        }
      ]
    },
    {
      "cell_type": "code",
      "metadata": {
        "id": "kQjrp-6vqq9h"
      },
      "source": [
        "# Loss functions are dropping, which indicates that the model may perform better if we increase epochs.\n"
      ],
      "execution_count": 34,
      "outputs": []
    },
    {
      "cell_type": "code",
      "metadata": {
        "colab": {
          "base_uri": "https://localhost:8080/"
        },
        "id": "5dWjKsYWrB1u",
        "outputId": "cb40b9a7-c6a5-4425-b457-d8f254865cab"
      },
      "source": [
        "print('Train Split : ')\n",
        "loss, accuracy = model.evaluate(normed_train_data, train_labels, verbose = 1)\n",
        "\n",
        "print('Accuracy :  {:5.2f}'.format(accuracy))"
      ],
      "execution_count": 35,
      "outputs": [
        {
          "output_type": "stream",
          "text": [
            "Train Split : \n",
            "6/6 [==============================] - 0s 4ms/step - loss: 0.5895 - accuracy: 0.6872\n",
            "Accuracy :   0.69\n"
          ],
          "name": "stdout"
        }
      ]
    },
    {
      "cell_type": "code",
      "metadata": {
        "colab": {
          "base_uri": "https://localhost:8080/"
        },
        "id": "gXB_KGv3rv2q",
        "outputId": "4048c498-21f1-4cb6-8917-ecfca20f94d8"
      },
      "source": [
        "print('Evaluation Split : ')\n",
        "loss, accuracy = model.evaluate(normed_valid_data, valid_labels, verbose = 2)\n",
        "\n",
        "print('Accuracy :  {:5.2f}'.format(accuracy))"
      ],
      "execution_count": 36,
      "outputs": [
        {
          "output_type": "stream",
          "text": [
            "Evaluation Split : \n",
            "2/2 - 0s - loss: 0.5896 - accuracy: 0.7000\n",
            "Accuracy :   0.70\n"
          ],
          "name": "stdout"
        }
      ]
    },
    {
      "cell_type": "code",
      "metadata": {
        "colab": {
          "base_uri": "https://localhost:8080/"
        },
        "id": "TEXjsTB_sVG-",
        "outputId": "7c8855cc-8a44-47c3-fbf1-a215378f2fbf"
      },
      "source": [
        "print('Test Split : ')\n",
        "loss, accuracy = model.evaluate(normed_test_data, test_labels, verbose = 2)\n",
        "\n",
        "print('Accuracy :  {:5.2f}'.format(accuracy))"
      ],
      "execution_count": 37,
      "outputs": [
        {
          "output_type": "stream",
          "text": [
            "Test Split : \n",
            "2/2 - 0s - loss: 0.6057 - accuracy: 0.6833\n",
            "Accuracy :   0.68\n"
          ],
          "name": "stdout"
        }
      ]
    },
    {
      "cell_type": "markdown",
      "metadata": {
        "id": "THN4XO3Tswdx"
      },
      "source": [
        "# **Confusion Matrix**"
      ]
    },
    {
      "cell_type": "code",
      "metadata": {
        "colab": {
          "base_uri": "https://localhost:8080/",
          "height": 295
        },
        "id": "Pxt6lkiwsq8l",
        "outputId": "7ab0177b-8620-48c6-eafb-f55f437036a8"
      },
      "source": [
        "from sklearn.metrics import confusion_matrix\n",
        "\n",
        "ax=plt.subplot()\n",
        "predict_results = model.predict(normed_test_data)\n",
        "\n",
        "predict_results = (predict_results > 0.5)  #thershold for binary classification.\n",
        "\n",
        "cm = confusion_matrix(test_labels, predict_results)\n",
        "\n",
        "sns.heatmap(cm, annot=True, ax=ax) #annot is for annotating results.\n",
        "\n",
        "ax.set_xlabel('Predicted labels'); ax.set_ylabel('True Labels');\n",
        "ax.set_title('confusion Matrix');\n",
        "ax.xaxis.set_ticklabels(['Positive','Negative']);ax.yaxis.set_ticklabels(['Positive','Negative']);"
      ],
      "execution_count": 38,
      "outputs": [
        {
          "output_type": "display_data",
          "data": {
            "image/png": "[encoded data removed]",
            "text/plain": [
              "<Figure size 432x288 with 2 Axes>"
            ]
          },
          "metadata": {
            "tags": [],
            "needs_background": "light"
          }
        }
      ]
    },
    {
      "cell_type": "code",
      "metadata": {
        "id": "HDxlEGyLupqc"
      },
      "source": [
        "# Our model predicts no false negatives for the Death Incidents. \n",
        "# This is the most desirable output as the error that the model predicts no heart disease and actually having death incident is dangerous."
      ],
      "execution_count": 39,
      "outputs": []
    }
  ]
}